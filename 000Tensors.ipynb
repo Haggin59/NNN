{
  "nbformat": 4,
  "nbformat_minor": 0,
  "metadata": {
    "colab": {
      "provenance": [],
      "gpuType": "T4",
      "authorship_tag": "ABX9TyNaAv+vYlRrArf8iqHJ9YWj",
      "include_colab_link": true
    },
    "kernelspec": {
      "name": "python3",
      "display_name": "Python 3"
    },
    "language_info": {
      "name": "python"
    },
    "accelerator": "GPU",
    "gpuClass": "standard"
  },
  "cells": [
    {
      "cell_type": "markdown",
      "metadata": {
        "id": "view-in-github",
        "colab_type": "text"
      },
      "source": [
        "<a href=\"https://colab.research.google.com/github/Haggin59/NNN/blob/main/000Tensors.ipynb\" target=\"_parent\"><img src=\"https://colab.research.google.com/assets/colab-badge.svg\" alt=\"Open In Colab\"/></a>"
      ]
    },
    {
      "cell_type": "code",
      "execution_count": null,
      "metadata": {
        "colab": {
          "base_uri": "https://localhost:8080/"
        },
        "id": "8sFlD7Cxz959",
        "outputId": "f46caf27-053e-4931-be5e-7828f0edb398"
      },
      "outputs": [
        {
          "output_type": "stream",
          "name": "stdout",
          "text": [
            "2.0.0+cu118\n"
          ]
        }
      ],
      "source": [
        "import torch\n",
        "import pandas as pd\n",
        "import numpy as np\n",
        "import matplotlib.pyplot as plt\n",
        "print(torch.__version__)"
      ]
    },
    {
      "cell_type": "markdown",
      "source": [
        "#scalar"
      ],
      "metadata": {
        "id": "QqQjVx_G3Y-f"
      }
    },
    {
      "cell_type": "code",
      "source": [
        "scalar = torch.tensor(3)"
      ],
      "metadata": {
        "id": "M79kT_lQ2rSX"
      },
      "execution_count": null,
      "outputs": []
    },
    {
      "cell_type": "code",
      "source": [
        "scalar"
      ],
      "metadata": {
        "colab": {
          "base_uri": "https://localhost:8080/"
        },
        "id": "DO7ygwtk24JF",
        "outputId": "183d3d5a-1f47-409c-a41a-1849f742e55c"
      },
      "execution_count": null,
      "outputs": [
        {
          "output_type": "execute_result",
          "data": {
            "text/plain": [
              "tensor(3)"
            ]
          },
          "metadata": {},
          "execution_count": 3
        }
      ]
    },
    {
      "cell_type": "code",
      "source": [
        "scalar.item()"
      ],
      "metadata": {
        "colab": {
          "base_uri": "https://localhost:8080/"
        },
        "id": "h4NyDDuZ25fq",
        "outputId": "7f038c97-6629-4e70-a9cd-2df38c9e0f6c"
      },
      "execution_count": null,
      "outputs": [
        {
          "output_type": "execute_result",
          "data": {
            "text/plain": [
              "3"
            ]
          },
          "metadata": {},
          "execution_count": 4
        }
      ]
    },
    {
      "cell_type": "code",
      "source": [
        "scalar.ndim"
      ],
      "metadata": {
        "colab": {
          "base_uri": "https://localhost:8080/"
        },
        "id": "auAaf5iE28HF",
        "outputId": "9e928f3b-0885-4411-fb88-17551361df9c"
      },
      "execution_count": null,
      "outputs": [
        {
          "output_type": "execute_result",
          "data": {
            "text/plain": [
              "0"
            ]
          },
          "metadata": {},
          "execution_count": 5
        }
      ]
    },
    {
      "cell_type": "markdown",
      "source": [
        "#vector"
      ],
      "metadata": {
        "id": "wTVKJKwL3bnO"
      }
    },
    {
      "cell_type": "code",
      "source": [
        "vector  = torch.tensor([3,4])"
      ],
      "metadata": {
        "id": "4s68QApR3AbS"
      },
      "execution_count": null,
      "outputs": []
    },
    {
      "cell_type": "code",
      "source": [
        "vector"
      ],
      "metadata": {
        "colab": {
          "base_uri": "https://localhost:8080/"
        },
        "id": "oNXo9HwB3SJl",
        "outputId": "a46f727f-d142-4f1d-f676-884d660d5e52"
      },
      "execution_count": null,
      "outputs": [
        {
          "output_type": "execute_result",
          "data": {
            "text/plain": [
              "tensor([3, 4])"
            ]
          },
          "metadata": {},
          "execution_count": 7
        }
      ]
    },
    {
      "cell_type": "code",
      "source": [
        "vector.ndim"
      ],
      "metadata": {
        "colab": {
          "base_uri": "https://localhost:8080/"
        },
        "id": "FTFxvAAf3T2J",
        "outputId": "947ae04c-35a9-434f-c5ea-ce421004d733"
      },
      "execution_count": null,
      "outputs": [
        {
          "output_type": "execute_result",
          "data": {
            "text/plain": [
              "1"
            ]
          },
          "metadata": {},
          "execution_count": 8
        }
      ]
    },
    {
      "cell_type": "markdown",
      "source": [
        "# Matrix"
      ],
      "metadata": {
        "id": "N6FJFtpN3erD"
      }
    },
    {
      "cell_type": "code",
      "source": [
        "matrix = torch.tensor([[1,2],\n",
        "                       [3,4]])\n",
        "\n",
        "matrix"
      ],
      "metadata": {
        "colab": {
          "base_uri": "https://localhost:8080/"
        },
        "id": "YJRGbhEg3WkI",
        "outputId": "29a486e7-91d6-4e48-bf14-84d97b79dd29"
      },
      "execution_count": null,
      "outputs": [
        {
          "output_type": "execute_result",
          "data": {
            "text/plain": [
              "tensor([[1, 2],\n",
              "        [3, 4]])"
            ]
          },
          "metadata": {},
          "execution_count": 9
        }
      ]
    },
    {
      "cell_type": "code",
      "source": [
        "matrix.ndim"
      ],
      "metadata": {
        "colab": {
          "base_uri": "https://localhost:8080/"
        },
        "id": "Wb0ZLsad3qR6",
        "outputId": "9b85f4d9-fb01-494e-ab86-8c5c9cd6240d"
      },
      "execution_count": null,
      "outputs": [
        {
          "output_type": "execute_result",
          "data": {
            "text/plain": [
              "2"
            ]
          },
          "metadata": {},
          "execution_count": 10
        }
      ]
    },
    {
      "cell_type": "markdown",
      "source": [
        "# Tensor"
      ],
      "metadata": {
        "id": "Bg7p-0Tx4s9N"
      }
    },
    {
      "cell_type": "code",
      "source": [
        "tensor1 = torch.tensor([[[1, 2, 3],\n",
        "                        [4, 5, 6],\n",
        "                        [7, 8, 9]]])\n",
        "\n",
        "tensor1"
      ],
      "metadata": {
        "colab": {
          "base_uri": "https://localhost:8080/"
        },
        "id": "GV0jGO3Z3tL5",
        "outputId": "75394e55-4d25-46f0-b37c-21fa446ebc5d"
      },
      "execution_count": null,
      "outputs": [
        {
          "output_type": "execute_result",
          "data": {
            "text/plain": [
              "tensor([[[1, 2, 3],\n",
              "         [4, 5, 6],\n",
              "         [7, 8, 9]]])"
            ]
          },
          "metadata": {},
          "execution_count": 11
        }
      ]
    },
    {
      "cell_type": "code",
      "source": [
        "tensor1.ndim"
      ],
      "metadata": {
        "colab": {
          "base_uri": "https://localhost:8080/"
        },
        "id": "gCb7b1fx46vX",
        "outputId": "53ba9b07-a7ac-473d-bf32-31edbd2a1173"
      },
      "execution_count": null,
      "outputs": [
        {
          "output_type": "execute_result",
          "data": {
            "text/plain": [
              "3"
            ]
          },
          "metadata": {},
          "execution_count": 12
        }
      ]
    },
    {
      "cell_type": "code",
      "source": [
        "tensor1.shape"
      ],
      "metadata": {
        "colab": {
          "base_uri": "https://localhost:8080/"
        },
        "id": "1TiX9RnE5CAy",
        "outputId": "784ef7da-93a9-42be-9fde-59d540e24f36"
      },
      "execution_count": null,
      "outputs": [
        {
          "output_type": "execute_result",
          "data": {
            "text/plain": [
              "torch.Size([1, 3, 3])"
            ]
          },
          "metadata": {},
          "execution_count": 13
        }
      ]
    },
    {
      "cell_type": "code",
      "source": [
        "tensor1[0]"
      ],
      "metadata": {
        "colab": {
          "base_uri": "https://localhost:8080/"
        },
        "id": "6ZovS0kU5E3-",
        "outputId": "07158ed6-482f-446a-d469-27801720c31f"
      },
      "execution_count": null,
      "outputs": [
        {
          "output_type": "execute_result",
          "data": {
            "text/plain": [
              "tensor([[1, 2, 3],\n",
              "        [4, 5, 6],\n",
              "        [7, 8, 9]])"
            ]
          },
          "metadata": {},
          "execution_count": 14
        }
      ]
    },
    {
      "cell_type": "code",
      "source": [
        "tensor1[0][0]"
      ],
      "metadata": {
        "colab": {
          "base_uri": "https://localhost:8080/"
        },
        "id": "T6Fzs_X35HYm",
        "outputId": "877f1be2-68ed-42c5-beae-9846f8619b72"
      },
      "execution_count": null,
      "outputs": [
        {
          "output_type": "execute_result",
          "data": {
            "text/plain": [
              "tensor([1, 2, 3])"
            ]
          },
          "metadata": {},
          "execution_count": 15
        }
      ]
    },
    {
      "cell_type": "code",
      "source": [
        "tensor1[0][0][0]"
      ],
      "metadata": {
        "colab": {
          "base_uri": "https://localhost:8080/"
        },
        "id": "BSfFqFfN5Jr0",
        "outputId": "88c7c2b4-192c-4496-98e8-b19e753a927c"
      },
      "execution_count": null,
      "outputs": [
        {
          "output_type": "execute_result",
          "data": {
            "text/plain": [
              "tensor(1)"
            ]
          },
          "metadata": {},
          "execution_count": 16
        }
      ]
    },
    {
      "cell_type": "code",
      "source": [
        "tensor1[0][2][1].item()"
      ],
      "metadata": {
        "colab": {
          "base_uri": "https://localhost:8080/"
        },
        "id": "KX9T0Fqw5UsF",
        "outputId": "beee3141-abef-46fe-f1b1-41c6f1218c8a"
      },
      "execution_count": null,
      "outputs": [
        {
          "output_type": "execute_result",
          "data": {
            "text/plain": [
              "8"
            ]
          },
          "metadata": {},
          "execution_count": 17
        }
      ]
    },
    {
      "cell_type": "code",
      "source": [
        "tensor1[0][0:2][0]"
      ],
      "metadata": {
        "colab": {
          "base_uri": "https://localhost:8080/"
        },
        "id": "cMwZFzy97imi",
        "outputId": "3a06c1bc-bc6f-45f0-cc0b-229642c1c89e"
      },
      "execution_count": null,
      "outputs": [
        {
          "output_type": "execute_result",
          "data": {
            "text/plain": [
              "tensor([1, 2, 3])"
            ]
          },
          "metadata": {},
          "execution_count": 18
        }
      ]
    },
    {
      "cell_type": "code",
      "source": [
        "tensor2 = torch.tensor([[[1,2,3],\n",
        "                         [4,5,6],\n",
        "                         [7,8,9]],\n",
        "                        \n",
        "                        [[11,12,13],\n",
        "                         [14,15,16],\n",
        "                         [17,18,19]]])"
      ],
      "metadata": {
        "id": "sRchIM7j5ZAC"
      },
      "execution_count": null,
      "outputs": []
    },
    {
      "cell_type": "code",
      "source": [
        "tensor2.shape"
      ],
      "metadata": {
        "colab": {
          "base_uri": "https://localhost:8080/"
        },
        "id": "gD8TK74P6MTg",
        "outputId": "db00149a-767a-4608-f2f3-09dfe0a5b42b"
      },
      "execution_count": null,
      "outputs": [
        {
          "output_type": "execute_result",
          "data": {
            "text/plain": [
              "torch.Size([2, 3, 3])"
            ]
          },
          "metadata": {},
          "execution_count": 20
        }
      ]
    },
    {
      "cell_type": "code",
      "source": [
        "tensor2[0]"
      ],
      "metadata": {
        "colab": {
          "base_uri": "https://localhost:8080/"
        },
        "id": "4_BxE-1D6OTW",
        "outputId": "b53fcf5a-b89e-4a51-dc03-a0dba12e75aa"
      },
      "execution_count": null,
      "outputs": [
        {
          "output_type": "execute_result",
          "data": {
            "text/plain": [
              "tensor([[1, 2, 3],\n",
              "        [4, 5, 6],\n",
              "        [7, 8, 9]])"
            ]
          },
          "metadata": {},
          "execution_count": 21
        }
      ]
    },
    {
      "cell_type": "code",
      "source": [
        "tensor2[1]"
      ],
      "metadata": {
        "colab": {
          "base_uri": "https://localhost:8080/"
        },
        "id": "EXpNFnbS6T4T",
        "outputId": "ab401fee-79c6-4dec-e134-f3c618b9aada"
      },
      "execution_count": null,
      "outputs": [
        {
          "output_type": "execute_result",
          "data": {
            "text/plain": [
              "tensor([[11, 12, 13],\n",
              "        [14, 15, 16],\n",
              "        [17, 18, 19]])"
            ]
          },
          "metadata": {},
          "execution_count": 22
        }
      ]
    },
    {
      "cell_type": "code",
      "source": [
        "tensor2[0][0]"
      ],
      "metadata": {
        "colab": {
          "base_uri": "https://localhost:8080/"
        },
        "id": "ca-Ulwhl6VpT",
        "outputId": "9fcf49f0-b725-4c73-8117-e8b561765e96"
      },
      "execution_count": null,
      "outputs": [
        {
          "output_type": "execute_result",
          "data": {
            "text/plain": [
              "tensor([1, 2, 3])"
            ]
          },
          "metadata": {},
          "execution_count": 23
        }
      ]
    },
    {
      "cell_type": "code",
      "source": [
        "tensor2[1][0]"
      ],
      "metadata": {
        "colab": {
          "base_uri": "https://localhost:8080/"
        },
        "id": "t6JzLCnV6YP6",
        "outputId": "95078c5e-c986-4017-a31a-44a043228c4a"
      },
      "execution_count": null,
      "outputs": [
        {
          "output_type": "execute_result",
          "data": {
            "text/plain": [
              "tensor([11, 12, 13])"
            ]
          },
          "metadata": {},
          "execution_count": 24
        }
      ]
    },
    {
      "cell_type": "code",
      "source": [
        "#7\n",
        "\n",
        "tensor2[0][2][0].item()"
      ],
      "metadata": {
        "colab": {
          "base_uri": "https://localhost:8080/"
        },
        "id": "0YX7QjcK6ahh",
        "outputId": "7a6dbdd8-390c-434f-e605-f43a946966f8"
      },
      "execution_count": null,
      "outputs": [
        {
          "output_type": "execute_result",
          "data": {
            "text/plain": [
              "7"
            ]
          },
          "metadata": {},
          "execution_count": 25
        }
      ]
    },
    {
      "cell_type": "code",
      "source": [
        "#15\n",
        "\n",
        "tensor2[1][1][1].item()"
      ],
      "metadata": {
        "colab": {
          "base_uri": "https://localhost:8080/"
        },
        "id": "2s8KR8_g6hNK",
        "outputId": "d962007f-58f7-47b4-f0de-97edfb3d0a91"
      },
      "execution_count": null,
      "outputs": [
        {
          "output_type": "execute_result",
          "data": {
            "text/plain": [
              "15"
            ]
          },
          "metadata": {},
          "execution_count": 26
        }
      ]
    },
    {
      "cell_type": "code",
      "source": [
        "# 2 5 8\n",
        "\n",
        "tensor2[0][:][1]"
      ],
      "metadata": {
        "colab": {
          "base_uri": "https://localhost:8080/"
        },
        "id": "-WtqxZG86rO0",
        "outputId": "f130e8b8-e706-46b1-aea7-89e2ffc3a823"
      },
      "execution_count": null,
      "outputs": [
        {
          "output_type": "execute_result",
          "data": {
            "text/plain": [
              "tensor([4, 5, 6])"
            ]
          },
          "metadata": {},
          "execution_count": 27
        }
      ]
    },
    {
      "cell_type": "markdown",
      "source": [
        "#Random Tensor"
      ],
      "metadata": {
        "id": "x-fxMGRV-st0"
      }
    },
    {
      "cell_type": "markdown",
      "source": [
        "`Torch.rand()`: *For creating random tensors with values ranging from 0 to 1*\n"
      ],
      "metadata": {
        "id": "4o7wQ-4rBNXD"
      }
    },
    {
      "cell_type": "code",
      "source": [
        "random_tensor = torch.rand(3,5)\n",
        "random_tensor"
      ],
      "metadata": {
        "colab": {
          "base_uri": "https://localhost:8080/"
        },
        "id": "GFIPg-ce7C-8",
        "outputId": "19de2c64-27e4-4d97-e2ff-79ba12d5fe0b"
      },
      "execution_count": null,
      "outputs": [
        {
          "output_type": "execute_result",
          "data": {
            "text/plain": [
              "tensor([[0.6213, 0.4969, 0.6781, 0.7371, 0.5306],\n",
              "        [0.7014, 0.8904, 0.4110, 0.7944, 0.2541],\n",
              "        [0.2699, 0.8977, 0.9285, 0.3533, 0.0665]])"
            ]
          },
          "metadata": {},
          "execution_count": 28
        }
      ]
    },
    {
      "cell_type": "code",
      "source": [
        "random_tensor1 = torch.rand(2,3,3)\n",
        "random_tensor1"
      ],
      "metadata": {
        "colab": {
          "base_uri": "https://localhost:8080/"
        },
        "id": "xTSWIrm_-4C9",
        "outputId": "3c039ec3-456f-4f59-877d-30b7928a0d43"
      },
      "execution_count": null,
      "outputs": [
        {
          "output_type": "execute_result",
          "data": {
            "text/plain": [
              "tensor([[[0.4949, 0.4769, 0.7707],\n",
              "         [0.5088, 0.8442, 0.2850],\n",
              "         [0.9457, 0.5903, 0.6570]],\n",
              "\n",
              "        [[0.1823, 0.3210, 0.5254],\n",
              "         [0.7489, 0.0585, 0.5614],\n",
              "         [0.6008, 0.7841, 0.3664]]])"
            ]
          },
          "metadata": {},
          "execution_count": 29
        }
      ]
    },
    {
      "cell_type": "code",
      "source": [
        "random_img_tensor = torch.rand(32,32,3)"
      ],
      "metadata": {
        "id": "WBBak3HK_NzV"
      },
      "execution_count": null,
      "outputs": []
    },
    {
      "cell_type": "code",
      "source": [
        "plt.imshow(random_img_tensor)"
      ],
      "metadata": {
        "colab": {
          "base_uri": "https://localhost:8080/",
          "height": 448
        },
        "id": "W5GyG5Un_2-V",
        "outputId": "00a7072c-fda7-4dd5-ed36-bce1687678d1"
      },
      "execution_count": null,
      "outputs": [
        {
          "output_type": "execute_result",
          "data": {
            "text/plain": [
              "<matplotlib.image.AxesImage at 0x7f879c1782e0>"
            ]
          },
          "metadata": {},
          "execution_count": 31
        },
        {
          "output_type": "display_data",
          "data": {
            "text/plain": [
              "<Figure size 640x480 with 1 Axes>"
            ],
            "image/png": "[encoded data removed]"
          },
          "metadata": {}
        }
      ]
    },
    {
      "cell_type": "markdown",
      "source": [
        "`Torch.zeors()` : *To create tensors with zero values*  \n",
        "`Torch.ones()` : *To create tensors with all one values*"
      ],
      "metadata": {
        "id": "m3VdmW4uB8HU"
      }
    },
    {
      "cell_type": "code",
      "source": [
        "zeros = torch.zeros(2,3)\n",
        "zeros"
      ],
      "metadata": {
        "colab": {
          "base_uri": "https://localhost:8080/"
        },
        "id": "s_mOFHsk_8ea",
        "outputId": "334bbc67-b43b-47df-f0af-bf299f878539"
      },
      "execution_count": null,
      "outputs": [
        {
          "output_type": "execute_result",
          "data": {
            "text/plain": [
              "tensor([[0., 0., 0.],\n",
              "        [0., 0., 0.]])"
            ]
          },
          "metadata": {},
          "execution_count": 32
        }
      ]
    },
    {
      "cell_type": "code",
      "source": [
        "ones = torch.ones(2,3)\n",
        "ones"
      ],
      "metadata": {
        "colab": {
          "base_uri": "https://localhost:8080/"
        },
        "id": "2JH_oZ7WCnZW",
        "outputId": "fb8bef81-2a6b-43cd-8024-f7e334f7353d"
      },
      "execution_count": null,
      "outputs": [
        {
          "output_type": "execute_result",
          "data": {
            "text/plain": [
              "tensor([[1., 1., 1.],\n",
              "        [1., 1., 1.]])"
            ]
          },
          "metadata": {},
          "execution_count": 33
        }
      ]
    },
    {
      "cell_type": "markdown",
      "source": [
        "`Torch.arange()`"
      ],
      "metadata": {
        "id": "dq5OkwAUDHeg"
      }
    },
    {
      "cell_type": "code",
      "source": [
        "range1 = torch.arange(-5,5)\n",
        "range1"
      ],
      "metadata": {
        "colab": {
          "base_uri": "https://localhost:8080/"
        },
        "id": "xYiMEcwyCtSH",
        "outputId": "2ff9d353-695d-4d97-e79f-bbbd2789fc1f"
      },
      "execution_count": null,
      "outputs": [
        {
          "output_type": "execute_result",
          "data": {
            "text/plain": [
              "tensor([-5, -4, -3, -2, -1,  0,  1,  2,  3,  4])"
            ]
          },
          "metadata": {},
          "execution_count": 34
        }
      ]
    },
    {
      "cell_type": "code",
      "source": [
        "step = torch.arange(-20,20,3)\n",
        "step"
      ],
      "metadata": {
        "colab": {
          "base_uri": "https://localhost:8080/"
        },
        "id": "IKrjOF86DaKM",
        "outputId": "96367cfa-f6c6-4554-9b1e-340682989364"
      },
      "execution_count": null,
      "outputs": [
        {
          "output_type": "execute_result",
          "data": {
            "text/plain": [
              "tensor([-20, -17, -14, -11,  -8,  -5,  -2,   1,   4,   7,  10,  13,  16,  19])"
            ]
          },
          "metadata": {},
          "execution_count": 35
        }
      ]
    },
    {
      "cell_type": "markdown",
      "source": [
        "## Tensors like"
      ],
      "metadata": {
        "id": "ygDvqhnwEBX9"
      }
    },
    {
      "cell_type": "code",
      "source": [
        "like1 = torch.ones_like(range1)\n",
        "like1"
      ],
      "metadata": {
        "colab": {
          "base_uri": "https://localhost:8080/"
        },
        "id": "49h1ZFozDw2O",
        "outputId": "edba0ed6-b04a-4f1f-86ce-fb67738dfea8"
      },
      "execution_count": null,
      "outputs": [
        {
          "output_type": "execute_result",
          "data": {
            "text/plain": [
              "tensor([1, 1, 1, 1, 1, 1, 1, 1, 1, 1])"
            ]
          },
          "metadata": {},
          "execution_count": 36
        }
      ]
    },
    {
      "cell_type": "code",
      "source": [
        "like2 = torch.zeros_like(step)\n",
        "like2"
      ],
      "metadata": {
        "colab": {
          "base_uri": "https://localhost:8080/"
        },
        "id": "FPqUs_9yETLj",
        "outputId": "f2099462-8eaa-48cc-ba66-a8cc8a5ed3d0"
      },
      "execution_count": null,
      "outputs": [
        {
          "output_type": "execute_result",
          "data": {
            "text/plain": [
              "tensor([0, 0, 0, 0, 0, 0, 0, 0, 0, 0, 0, 0, 0, 0])"
            ]
          },
          "metadata": {},
          "execution_count": 37
        }
      ]
    },
    {
      "cell_type": "markdown",
      "source": [
        "## Tensor datatypes"
      ],
      "metadata": {
        "id": "WGPb5NohFOb7"
      }
    },
    {
      "cell_type": "code",
      "source": [
        "f32 = torch.tensor([1,2,3])\n",
        "f32.dtype"
      ],
      "metadata": {
        "colab": {
          "base_uri": "https://localhost:8080/"
        },
        "id": "jHPCyxziEZKC",
        "outputId": "7252fc09-1083-496b-a186-909fd3fa1d1d"
      },
      "execution_count": null,
      "outputs": [
        {
          "output_type": "execute_result",
          "data": {
            "text/plain": [
              "torch.int64"
            ]
          },
          "metadata": {},
          "execution_count": 38
        }
      ]
    },
    {
      "cell_type": "code",
      "source": [
        "f_32 = torch.tensor([1.,2.,3.], dtype=None, device=None, requires_grad=False)\n",
        "f_32.dtype"
      ],
      "metadata": {
        "colab": {
          "base_uri": "https://localhost:8080/"
        },
        "id": "1KyzXlaBGSLJ",
        "outputId": "7dec71bb-02fe-45af-8ab6-a57e8102c51c"
      },
      "execution_count": null,
      "outputs": [
        {
          "output_type": "execute_result",
          "data": {
            "text/plain": [
              "torch.float32"
            ]
          },
          "metadata": {},
          "execution_count": 39
        }
      ]
    },
    {
      "cell_type": "code",
      "source": [
        "f_16 = f32.type(torch.float16)\n",
        "f_16.dtype"
      ],
      "metadata": {
        "colab": {
          "base_uri": "https://localhost:8080/"
        },
        "id": "Po9_ZTmZGpy6",
        "outputId": "124398f5-c0cf-4ab5-be1a-89fec1e9cc4b"
      },
      "execution_count": null,
      "outputs": [
        {
          "output_type": "execute_result",
          "data": {
            "text/plain": [
              "torch.float16"
            ]
          },
          "metadata": {},
          "execution_count": 40
        }
      ]
    },
    {
      "cell_type": "markdown",
      "source": [
        "# Tensor operations\n",
        "\n",
        "* Addition\n",
        "* Substraction\n",
        "* Multiplication, element-wise\n",
        "* Division\n",
        "* Matrix Multiplication"
      ],
      "metadata": {
        "id": "5mXUTaX7KGsz"
      }
    },
    {
      "cell_type": "code",
      "source": [
        "t1 = torch.arange(1,5)\n",
        "t1"
      ],
      "metadata": {
        "colab": {
          "base_uri": "https://localhost:8080/"
        },
        "id": "94fyO8tIHfwR",
        "outputId": "b42fd482-9977-4a60-ceb2-e2a21291640c"
      },
      "execution_count": null,
      "outputs": [
        {
          "output_type": "execute_result",
          "data": {
            "text/plain": [
              "tensor([1, 2, 3, 4])"
            ]
          },
          "metadata": {},
          "execution_count": 41
        }
      ]
    },
    {
      "cell_type": "code",
      "source": [
        "t1 + 2"
      ],
      "metadata": {
        "colab": {
          "base_uri": "https://localhost:8080/"
        },
        "id": "VfbxFd7PKhbU",
        "outputId": "d3a9288d-bccb-4cf4-9b8f-9a3b43afeb99"
      },
      "execution_count": null,
      "outputs": [
        {
          "output_type": "execute_result",
          "data": {
            "text/plain": [
              "tensor([3, 4, 5, 6])"
            ]
          },
          "metadata": {},
          "execution_count": 42
        }
      ]
    },
    {
      "cell_type": "code",
      "source": [
        "t1 -1"
      ],
      "metadata": {
        "colab": {
          "base_uri": "https://localhost:8080/"
        },
        "id": "tqrxuO0oKvtj",
        "outputId": "dd8bc956-a8b2-4e22-d434-12d9e2f7199f"
      },
      "execution_count": null,
      "outputs": [
        {
          "output_type": "execute_result",
          "data": {
            "text/plain": [
              "tensor([0, 1, 2, 3])"
            ]
          },
          "metadata": {},
          "execution_count": 43
        }
      ]
    },
    {
      "cell_type": "code",
      "source": [
        "t1 * 3"
      ],
      "metadata": {
        "colab": {
          "base_uri": "https://localhost:8080/"
        },
        "id": "ctVhOFDZKmQ7",
        "outputId": "e2e09bd6-27c7-4546-8303-1aeb3257515e"
      },
      "execution_count": null,
      "outputs": [
        {
          "output_type": "execute_result",
          "data": {
            "text/plain": [
              "tensor([ 3,  6,  9, 12])"
            ]
          },
          "metadata": {},
          "execution_count": 44
        }
      ]
    },
    {
      "cell_type": "code",
      "source": [
        "t1 / 2"
      ],
      "metadata": {
        "colab": {
          "base_uri": "https://localhost:8080/"
        },
        "id": "_FDB7xZMKqyT",
        "outputId": "453e9192-8457-4acc-c82e-fd7673a07506"
      },
      "execution_count": null,
      "outputs": [
        {
          "output_type": "execute_result",
          "data": {
            "text/plain": [
              "tensor([0.5000, 1.0000, 1.5000, 2.0000])"
            ]
          },
          "metadata": {},
          "execution_count": 45
        }
      ]
    },
    {
      "cell_type": "markdown",
      "source": [
        "**Matrix multiplication**"
      ],
      "metadata": {
        "id": "-df2e11bK0MX"
      }
    },
    {
      "cell_type": "code",
      "source": [
        "#Element wise multiplication\n",
        "\n",
        "t2 = torch.tensor([1,2,3])\n",
        "\n",
        "print(t2*t2)"
      ],
      "metadata": {
        "colab": {
          "base_uri": "https://localhost:8080/"
        },
        "id": "VoWjaoMeLPSQ",
        "outputId": "df59c6cd-bdf5-4acf-9543-4050848300fb"
      },
      "execution_count": null,
      "outputs": [
        {
          "output_type": "stream",
          "name": "stdout",
          "text": [
            "tensor([1, 4, 9])\n"
          ]
        }
      ]
    },
    {
      "cell_type": "code",
      "source": [
        "torch.matmul(t2,t2)"
      ],
      "metadata": {
        "colab": {
          "base_uri": "https://localhost:8080/"
        },
        "id": "fHyafIYY3r7Y",
        "outputId": "2b45e021-cce9-4544-c707-ab70297a77f0"
      },
      "execution_count": null,
      "outputs": [
        {
          "output_type": "execute_result",
          "data": {
            "text/plain": [
              "tensor(14)"
            ]
          },
          "metadata": {},
          "execution_count": 47
        }
      ]
    },
    {
      "cell_type": "code",
      "source": [
        "torch.dot(t2,t2)"
      ],
      "metadata": {
        "colab": {
          "base_uri": "https://localhost:8080/"
        },
        "id": "3a7Oc6ap3_2P",
        "outputId": "04a8ae72-6c27-4791-ba58-4f6b1041472a"
      },
      "execution_count": null,
      "outputs": [
        {
          "output_type": "execute_result",
          "data": {
            "text/plain": [
              "tensor(14)"
            ]
          },
          "metadata": {},
          "execution_count": 48
        }
      ]
    },
    {
      "cell_type": "code",
      "source": [
        "t3 = torch.eye(3,3) #3D Identity matrix\n",
        "t3"
      ],
      "metadata": {
        "colab": {
          "base_uri": "https://localhost:8080/"
        },
        "id": "RBcd2Vvj4GAy",
        "outputId": "25966b90-5df6-4246-fd18-23188fb2905a"
      },
      "execution_count": null,
      "outputs": [
        {
          "output_type": "execute_result",
          "data": {
            "text/plain": [
              "tensor([[1., 0., 0.],\n",
              "        [0., 1., 0.],\n",
              "        [0., 0., 1.]])"
            ]
          },
          "metadata": {},
          "execution_count": 49
        }
      ]
    },
    {
      "cell_type": "code",
      "source": [
        "t4 = torch.randint(0,15,(3,3))\n",
        "t4 = t4.type(torch.float32)\n",
        "t4"
      ],
      "metadata": {
        "colab": {
          "base_uri": "https://localhost:8080/"
        },
        "id": "2G4jQGob4NsN",
        "outputId": "3ec98b9f-09c0-4a86-fda4-cd75356c5b81"
      },
      "execution_count": null,
      "outputs": [
        {
          "output_type": "execute_result",
          "data": {
            "text/plain": [
              "tensor([[ 5., 11.,  1.],\n",
              "        [ 3., 14., 11.],\n",
              "        [ 9., 14.,  6.]])"
            ]
          },
          "metadata": {},
          "execution_count": 50
        }
      ]
    },
    {
      "cell_type": "markdown",
      "source": [
        "`torch.matmul(a,b)` requires number of columns in a to be equal to number of rows in b.\n",
        "\n",
        "**a: m x n**  \n",
        "**b: p x q**\n",
        "\n",
        "**condition: n==p**  \n",
        "`torch.mm()` is an alias for `torch.matmul()`"
      ],
      "metadata": {
        "id": "J5tmrUGU6cON"
      }
    },
    {
      "cell_type": "code",
      "source": [
        "torch.matmul(t3,t4)\n",
        "#requires both tensors to be of same dtype"
      ],
      "metadata": {
        "colab": {
          "base_uri": "https://localhost:8080/"
        },
        "id": "JK800-zb4jVN",
        "outputId": "640bdc54-f24b-438c-d0b1-95546b906a8a"
      },
      "execution_count": null,
      "outputs": [
        {
          "output_type": "execute_result",
          "data": {
            "text/plain": [
              "tensor([[ 5., 11.,  1.],\n",
              "        [ 3., 14., 11.],\n",
              "        [ 9., 14.,  6.]])"
            ]
          },
          "metadata": {},
          "execution_count": 51
        }
      ]
    },
    {
      "cell_type": "markdown",
      "source": [
        "Unlike in numpy the matrix multiplication cannot be performed using the `torch.dot()` for multi dimensional matrices. ie inner dimensions must match\n",
        "\n",
        "`torch.dot(a,b)` expects a,b to be 1D tensors of same length "
      ],
      "metadata": {
        "id": "Oj9_v21B4p6H"
      }
    },
    {
      "cell_type": "code",
      "source": [
        "#Transpose of a matrix\n",
        "\n",
        "t4.T"
      ],
      "metadata": {
        "colab": {
          "base_uri": "https://localhost:8080/"
        },
        "id": "URgZ73TH5DEy",
        "outputId": "c1c467a7-db53-4baa-f7fa-5e52fdccce2e"
      },
      "execution_count": null,
      "outputs": [
        {
          "output_type": "execute_result",
          "data": {
            "text/plain": [
              "tensor([[ 5.,  3.,  9.],\n",
              "        [11., 14., 14.],\n",
              "        [ 1., 11.,  6.]])"
            ]
          },
          "metadata": {},
          "execution_count": 52
        }
      ]
    },
    {
      "cell_type": "markdown",
      "source": [
        "# Tensor aggregation "
      ],
      "metadata": {
        "id": "uml-q87Y9r9X"
      }
    },
    {
      "cell_type": "code",
      "source": [
        "t5 = torch.randint(0,20,(1,15))\n",
        "t5"
      ],
      "metadata": {
        "colab": {
          "base_uri": "https://localhost:8080/"
        },
        "id": "5cb-VPZi8JFT",
        "outputId": "ad3e04b5-97a9-4093-adb0-658069268b5c"
      },
      "execution_count": null,
      "outputs": [
        {
          "output_type": "execute_result",
          "data": {
            "text/plain": [
              "tensor([[ 3,  2, 10,  2, 18, 17,  5, 18, 18, 13, 16,  7, 10,  3,  6]])"
            ]
          },
          "metadata": {},
          "execution_count": 53
        }
      ]
    },
    {
      "cell_type": "code",
      "source": [
        "#min\n",
        "\n",
        "torch.min(t5)"
      ],
      "metadata": {
        "colab": {
          "base_uri": "https://localhost:8080/"
        },
        "id": "kYAiXSnv-mb3",
        "outputId": "1d2c0da2-528e-46b5-d3b9-bfb54406d288"
      },
      "execution_count": null,
      "outputs": [
        {
          "output_type": "execute_result",
          "data": {
            "text/plain": [
              "tensor(2)"
            ]
          },
          "metadata": {},
          "execution_count": 54
        }
      ]
    },
    {
      "cell_type": "code",
      "source": [
        "t5.min()"
      ],
      "metadata": {
        "colab": {
          "base_uri": "https://localhost:8080/"
        },
        "id": "hkkc9hXl_Bgi",
        "outputId": "4ae7268f-027a-4097-a9b0-176dad17e347"
      },
      "execution_count": null,
      "outputs": [
        {
          "output_type": "execute_result",
          "data": {
            "text/plain": [
              "tensor(2)"
            ]
          },
          "metadata": {},
          "execution_count": 55
        }
      ]
    },
    {
      "cell_type": "code",
      "source": [
        "#max\n",
        "\n",
        "torch.max(t5)\n",
        "t5.max()"
      ],
      "metadata": {
        "colab": {
          "base_uri": "https://localhost:8080/"
        },
        "id": "IKWEl1zI_ETx",
        "outputId": "95f1b82b-cb4a-42a0-a990-75a6f2275d6a"
      },
      "execution_count": null,
      "outputs": [
        {
          "output_type": "execute_result",
          "data": {
            "text/plain": [
              "tensor(18)"
            ]
          },
          "metadata": {},
          "execution_count": 56
        }
      ]
    },
    {
      "cell_type": "markdown",
      "source": [
        "`mean()` in pytorch requires input tesor to be of float32 dtype"
      ],
      "metadata": {
        "id": "v_q6YzqV_zZQ"
      }
    },
    {
      "cell_type": "code",
      "source": [
        "#mean\n",
        "\n",
        "torch.mean(t5.type(torch.float32))"
      ],
      "metadata": {
        "colab": {
          "base_uri": "https://localhost:8080/"
        },
        "id": "knihOKjR_JEW",
        "outputId": "411d2a12-305b-4f60-bf0b-2bffc9023d90"
      },
      "execution_count": null,
      "outputs": [
        {
          "output_type": "execute_result",
          "data": {
            "text/plain": [
              "tensor(9.8667)"
            ]
          },
          "metadata": {},
          "execution_count": 57
        }
      ]
    },
    {
      "cell_type": "code",
      "source": [
        "t5.type(torch.float32).mean()"
      ],
      "metadata": {
        "colab": {
          "base_uri": "https://localhost:8080/"
        },
        "id": "xpGyXam7_X22",
        "outputId": "f8117520-e061-4655-b8a3-59509626ad43"
      },
      "execution_count": null,
      "outputs": [
        {
          "output_type": "execute_result",
          "data": {
            "text/plain": [
              "tensor(9.8667)"
            ]
          },
          "metadata": {},
          "execution_count": 58
        }
      ]
    },
    {
      "cell_type": "code",
      "source": [
        "#sum\n",
        "\n",
        "torch.sum(t5)"
      ],
      "metadata": {
        "colab": {
          "base_uri": "https://localhost:8080/"
        },
        "id": "WprIsj45_osA",
        "outputId": "5d3881f9-0ad1-40e8-90fd-7436b4f092c4"
      },
      "execution_count": null,
      "outputs": [
        {
          "output_type": "execute_result",
          "data": {
            "text/plain": [
              "tensor(148)"
            ]
          },
          "metadata": {},
          "execution_count": 59
        }
      ]
    },
    {
      "cell_type": "code",
      "source": [
        "t5.sum()"
      ],
      "metadata": {
        "colab": {
          "base_uri": "https://localhost:8080/"
        },
        "id": "E6hfcGeKADHk",
        "outputId": "017525cd-8aab-433c-b66f-8ab9f2cf0aae"
      },
      "execution_count": null,
      "outputs": [
        {
          "output_type": "execute_result",
          "data": {
            "text/plain": [
              "tensor(148)"
            ]
          },
          "metadata": {},
          "execution_count": 60
        }
      ]
    },
    {
      "cell_type": "code",
      "source": [
        "#Positional min: find the least element in a tensor and return its index\n",
        " \n",
        "t5.argmin()\n",
        "\n",
        "torch.argmin(t5)"
      ],
      "metadata": {
        "colab": {
          "base_uri": "https://localhost:8080/"
        },
        "id": "37bUWocRAJf3",
        "outputId": "128d1206-4edb-4dd2-a931-3bab2426a757"
      },
      "execution_count": null,
      "outputs": [
        {
          "output_type": "execute_result",
          "data": {
            "text/plain": [
              "tensor(1)"
            ]
          },
          "metadata": {},
          "execution_count": 61
        }
      ]
    },
    {
      "cell_type": "code",
      "source": [
        "#Positional max: find the max element in a tensor and return its index\n",
        " \n",
        "t5.argmax()\n",
        "\n",
        "torch.argmax(t5)"
      ],
      "metadata": {
        "colab": {
          "base_uri": "https://localhost:8080/"
        },
        "id": "z8wlvuNwBFbL",
        "outputId": "3295d1d7-b5d7-4f49-ba91-5fba2e89ec88"
      },
      "execution_count": null,
      "outputs": [
        {
          "output_type": "execute_result",
          "data": {
            "text/plain": [
              "tensor(4)"
            ]
          },
          "metadata": {},
          "execution_count": 62
        }
      ]
    },
    {
      "cell_type": "markdown",
      "source": [
        "# Reshaping, stacking, squeezing, unsqueezing\n",
        "\n",
        "* Reshape: reshapes an input tensor to a defined shape\n",
        "\n",
        "* Stack: stacks multiple tensors horizontally or vertically\n",
        "\n",
        "* Squeeze: removes all 1 dimensions from a tensor\n",
        "\n",
        "* Unsqueeze: adds a 1 dimension to a tensor\n"
      ],
      "metadata": {
        "id": "H-p0llcFBTKx"
      }
    },
    {
      "cell_type": "code",
      "source": [
        "x = torch.arange(0,10)\n",
        "x.shape"
      ],
      "metadata": {
        "colab": {
          "base_uri": "https://localhost:8080/"
        },
        "id": "jlk55nF_rDFH",
        "outputId": "802c2cec-e0d6-40ea-c58b-da23ff65778e"
      },
      "execution_count": null,
      "outputs": [
        {
          "output_type": "execute_result",
          "data": {
            "text/plain": [
              "torch.Size([10])"
            ]
          },
          "metadata": {},
          "execution_count": 63
        }
      ]
    },
    {
      "cell_type": "code",
      "source": [
        "x_reshape1 = x.reshape(1,10)\n",
        "x_reshape1"
      ],
      "metadata": {
        "colab": {
          "base_uri": "https://localhost:8080/"
        },
        "id": "LV-9R4QHreRJ",
        "outputId": "73e1f37f-85af-48ac-a33b-216d413821ec"
      },
      "execution_count": null,
      "outputs": [
        {
          "output_type": "execute_result",
          "data": {
            "text/plain": [
              "tensor([[0, 1, 2, 3, 4, 5, 6, 7, 8, 9]])"
            ]
          },
          "metadata": {},
          "execution_count": 64
        }
      ]
    },
    {
      "cell_type": "code",
      "source": [
        "x_reshape1.shape"
      ],
      "metadata": {
        "colab": {
          "base_uri": "https://localhost:8080/"
        },
        "id": "wRiaiTmLrtq7",
        "outputId": "473a1a29-6ce5-4547-a176-0f70dad66f6e"
      },
      "execution_count": null,
      "outputs": [
        {
          "output_type": "execute_result",
          "data": {
            "text/plain": [
              "torch.Size([1, 10])"
            ]
          },
          "metadata": {},
          "execution_count": 65
        }
      ]
    },
    {
      "cell_type": "code",
      "source": [
        "x_reshape2 = x.reshape(10,1)\n",
        "x_reshape2"
      ],
      "metadata": {
        "colab": {
          "base_uri": "https://localhost:8080/"
        },
        "id": "hrBdW4XRr0NG",
        "outputId": "4f85250b-da0d-4bc7-b132-a33b513c0c8c"
      },
      "execution_count": null,
      "outputs": [
        {
          "output_type": "execute_result",
          "data": {
            "text/plain": [
              "tensor([[0],\n",
              "        [1],\n",
              "        [2],\n",
              "        [3],\n",
              "        [4],\n",
              "        [5],\n",
              "        [6],\n",
              "        [7],\n",
              "        [8],\n",
              "        [9]])"
            ]
          },
          "metadata": {},
          "execution_count": 66
        }
      ]
    },
    {
      "cell_type": "code",
      "source": [
        "x_reshape2.shape"
      ],
      "metadata": {
        "colab": {
          "base_uri": "https://localhost:8080/"
        },
        "id": "rdaKKzCAr3lU",
        "outputId": "3bc96b81-aaab-49b7-d201-774ddb458fb3"
      },
      "execution_count": null,
      "outputs": [
        {
          "output_type": "execute_result",
          "data": {
            "text/plain": [
              "torch.Size([10, 1])"
            ]
          },
          "metadata": {},
          "execution_count": 67
        }
      ]
    },
    {
      "cell_type": "code",
      "source": [
        "x_reshape3 = x.reshape(5,2)\n",
        "x_reshape3"
      ],
      "metadata": {
        "colab": {
          "base_uri": "https://localhost:8080/"
        },
        "id": "LG72J2bssAdG",
        "outputId": "5cbe2505-8f82-4179-8d37-97f36ad81902"
      },
      "execution_count": null,
      "outputs": [
        {
          "output_type": "execute_result",
          "data": {
            "text/plain": [
              "tensor([[0, 1],\n",
              "        [2, 3],\n",
              "        [4, 5],\n",
              "        [6, 7],\n",
              "        [8, 9]])"
            ]
          },
          "metadata": {},
          "execution_count": 68
        }
      ]
    },
    {
      "cell_type": "code",
      "source": [
        "x_reshape4 = x.reshape(2,5)\n",
        "x_reshape4 "
      ],
      "metadata": {
        "colab": {
          "base_uri": "https://localhost:8080/"
        },
        "id": "akrD16FDsGZ0",
        "outputId": "c87aa251-0f27-40ef-d953-2d8716021d00"
      },
      "execution_count": null,
      "outputs": [
        {
          "output_type": "execute_result",
          "data": {
            "text/plain": [
              "tensor([[0, 1, 2, 3, 4],\n",
              "        [5, 6, 7, 8, 9]])"
            ]
          },
          "metadata": {},
          "execution_count": 69
        }
      ]
    },
    {
      "cell_type": "markdown",
      "source": [
        "* `x.reshape(a,b)` requires the dimension (a,b) to include all elements present in x\n",
        "\n",
        "```\n",
        "x_reshape5 = x.reshape(3,3)\n",
        "x_reshape5\n",
        "```\n",
        "*RuntimeError: shape '[3, 3]' is invalid for input of size 10*\n"
      ],
      "metadata": {
        "id": "JpJl59hYsve2"
      }
    },
    {
      "cell_type": "code",
      "source": [
        " #View\n",
        "\n",
        " y = x.view(2,5)\n",
        " y"
      ],
      "metadata": {
        "colab": {
          "base_uri": "https://localhost:8080/"
        },
        "id": "VeWIintZtqK5",
        "outputId": "f780fed1-77a5-4576-9993-892d8692c6bf"
      },
      "execution_count": null,
      "outputs": [
        {
          "output_type": "execute_result",
          "data": {
            "text/plain": [
              "tensor([[0, 1, 2, 3, 4],\n",
              "        [5, 6, 7, 8, 9]])"
            ]
          },
          "metadata": {},
          "execution_count": 70
        }
      ]
    },
    {
      "cell_type": "code",
      "source": [
        "x[0] = 1\n",
        "x"
      ],
      "metadata": {
        "colab": {
          "base_uri": "https://localhost:8080/"
        },
        "id": "WtEpsegvuSgs",
        "outputId": "14e83bf0-3993-4986-b32e-4c147dfa08b7"
      },
      "execution_count": null,
      "outputs": [
        {
          "output_type": "execute_result",
          "data": {
            "text/plain": [
              "tensor([1, 1, 2, 3, 4, 5, 6, 7, 8, 9])"
            ]
          },
          "metadata": {},
          "execution_count": 71
        }
      ]
    },
    {
      "cell_type": "code",
      "source": [
        "y"
      ],
      "metadata": {
        "colab": {
          "base_uri": "https://localhost:8080/"
        },
        "id": "7DFHTLgAudBB",
        "outputId": "bd992473-7289-4cfe-8316-dbb053accfb5"
      },
      "execution_count": null,
      "outputs": [
        {
          "output_type": "execute_result",
          "data": {
            "text/plain": [
              "tensor([[1, 1, 2, 3, 4],\n",
              "        [5, 6, 7, 8, 9]])"
            ]
          },
          "metadata": {},
          "execution_count": 72
        }
      ]
    },
    {
      "cell_type": "markdown",
      "source": [
        "`y = x.view(a,b)`: would create a view of x in the given shape (a,b), this will not be stored in the memory, y would refer to x for the values. Therefore changes made to x would also reflect in y.\n",
        "\n",
        "`y = x.view(2,5)`  \n",
        "tensor([[0, 1, 2, 3, 4],\n",
        "        [5, 6, 7, 8, 9]])\n",
        "\n",
        "`x[0] = 1`  \n",
        "`y`\n",
        "\n",
        "tensor([[1, 1, 2, 3, 4],\n",
        "        [5, 6, 7, 8, 9]])\n"
      ],
      "metadata": {
        "id": "rNUb9yxrueXd"
      }
    },
    {
      "cell_type": "code",
      "source": [
        "#Stacking tensors\n",
        "\n",
        "x_1 = torch.tensor([1,2,3,4])\n",
        "x_2 = torch.tensor([4,3,2,1])"
      ],
      "metadata": {
        "id": "fkFIRABbvXHe"
      },
      "execution_count": null,
      "outputs": []
    },
    {
      "cell_type": "code",
      "source": [
        "#Stacking vertically\n",
        "x1Stackv = torch.stack((x_1,x_2),dim=0)\n",
        "x1Stackv"
      ],
      "metadata": {
        "colab": {
          "base_uri": "https://localhost:8080/"
        },
        "id": "211anR_GwVoS",
        "outputId": "ef465d96-f911-4e8d-e523-324728aed91d"
      },
      "execution_count": null,
      "outputs": [
        {
          "output_type": "execute_result",
          "data": {
            "text/plain": [
              "tensor([[1, 2, 3, 4],\n",
              "        [4, 3, 2, 1]])"
            ]
          },
          "metadata": {},
          "execution_count": 74
        }
      ]
    },
    {
      "cell_type": "code",
      "source": [
        "#Stacking horizontally\n",
        "x1Stackh = torch.stack((x_1,x_2),dim=1)\n",
        "x1Stackh"
      ],
      "metadata": {
        "colab": {
          "base_uri": "https://localhost:8080/"
        },
        "id": "y4Gdt4-FwhEm",
        "outputId": "0bf9d060-aaf5-4bd3-d298-8afaac824fa4"
      },
      "execution_count": null,
      "outputs": [
        {
          "output_type": "execute_result",
          "data": {
            "text/plain": [
              "tensor([[1, 4],\n",
              "        [2, 3],\n",
              "        [3, 2],\n",
              "        [4, 1]])"
            ]
          },
          "metadata": {},
          "execution_count": 75
        }
      ]
    },
    {
      "cell_type": "markdown",
      "source": [
        "###Squeeze vs unsqueeze"
      ],
      "metadata": {
        "id": "FP4uJeUhxOe_"
      }
    },
    {
      "cell_type": "code",
      "source": [
        "#squeeze() removes all single dimensions from a tensor\n",
        "\n",
        "x2 = torch.randn(1,5)\n",
        "x2_squeezed = torch.squeeze(x2)"
      ],
      "metadata": {
        "id": "R3gU6bkxGom7"
      },
      "execution_count": null,
      "outputs": []
    },
    {
      "cell_type": "code",
      "source": [
        "print(f\"x2:{x2}\")\n",
        "print(f\"x2:{x2.shape}\")\n",
        "\n",
        "print(f\"x2 squeezed: {x2_squeezed}\")\n",
        "print(f\"x2 squeezed: {x2_squeezed.shape}\")"
      ],
      "metadata": {
        "colab": {
          "base_uri": "https://localhost:8080/"
        },
        "id": "MKCSafYvHBUy",
        "outputId": "34a7cdf6-335f-4d43-84b3-0ae1540cd4b0"
      },
      "execution_count": null,
      "outputs": [
        {
          "output_type": "stream",
          "name": "stdout",
          "text": [
            "x2:tensor([[ 0.4038, -0.8553,  0.5092,  0.2508, -1.6211]])\n",
            "x2:torch.Size([1, 5])\n",
            "x2 squeezed: tensor([ 0.4038, -0.8553,  0.5092,  0.2508, -1.6211])\n",
            "x2 squeezed: torch.Size([5])\n"
          ]
        }
      ]
    },
    {
      "cell_type": "code",
      "source": [
        "#unsqueeze() adds a single dimension to a target tensor at a specified dimension\n",
        "\n",
        "x2_unsqueezed_0 = x2_squeezed.unsqueeze(dim=0)\n",
        "x2_unsqueezed_1 = x2_squeezed.unsqueeze(dim=1)"
      ],
      "metadata": {
        "id": "6HFBgIZvHM-l"
      },
      "execution_count": null,
      "outputs": []
    },
    {
      "cell_type": "code",
      "source": [
        "print(f\"x2:{x2_squeezed}\")\n",
        "print(f\"x2:{x2_squeezed.shape}\")\n",
        "\n",
        "#adds a single dim in zeorth place\n",
        "print(f\"x2 unsqueezed 0 : {x2_unsqueezed_0}\")\n",
        "print(f\"x2 unsqueezed: {x2_unsqueezed_0.shape}\")"
      ],
      "metadata": {
        "colab": {
          "base_uri": "https://localhost:8080/"
        },
        "id": "8eidQbUqIUub",
        "outputId": "6303c7df-dec1-4c71-d3f5-0e11c637e12a"
      },
      "execution_count": null,
      "outputs": [
        {
          "output_type": "stream",
          "name": "stdout",
          "text": [
            "x2:tensor([ 0.4038, -0.8553,  0.5092,  0.2508, -1.6211])\n",
            "x2:torch.Size([5])\n",
            "x2 unsqueezed 0 : tensor([[ 0.4038, -0.8553,  0.5092,  0.2508, -1.6211]])\n",
            "x2 unsqueezed: torch.Size([1, 5])\n"
          ]
        }
      ]
    },
    {
      "cell_type": "code",
      "source": [
        "#adds a single dim in ones place\n",
        "print(f\"x2 unsqueezed 1 : {x2_unsqueezed_1}\")\n",
        "print(f\"x2 unsqueezed: {x2_unsqueezed_1.shape}\")"
      ],
      "metadata": {
        "colab": {
          "base_uri": "https://localhost:8080/"
        },
        "id": "KXl8CiFFIpPm",
        "outputId": "e1080408-5b57-492c-fc66-b18d51cd9cc2"
      },
      "execution_count": null,
      "outputs": [
        {
          "output_type": "stream",
          "name": "stdout",
          "text": [
            "x2 unsqueezed 1 : tensor([[ 0.4038],\n",
            "        [-0.8553],\n",
            "        [ 0.5092],\n",
            "        [ 0.2508],\n",
            "        [-1.6211]])\n",
            "x2 unsqueezed: torch.Size([5, 1])\n"
          ]
        }
      ]
    },
    {
      "cell_type": "markdown",
      "source": [
        "`torch.permute()` used to rearrange the dimensions of a tensor in a specified oerder\n",
        "\n",
        "`permute()`: refers to the original tensor, its not stored in memory"
      ],
      "metadata": {
        "id": "KS-ZQ2Z7I4ua"
      }
    },
    {
      "cell_type": "code",
      "source": [
        "x3 = torch.randint(0,9,(2,3,3))\n",
        "x3"
      ],
      "metadata": {
        "colab": {
          "base_uri": "https://localhost:8080/"
        },
        "id": "igtcKCqWJ1Bm",
        "outputId": "b8be7c8b-e214-4b0f-dd9c-c9b4964f1f8c"
      },
      "execution_count": null,
      "outputs": [
        {
          "output_type": "execute_result",
          "data": {
            "text/plain": [
              "tensor([[[2, 5, 6],\n",
              "         [0, 3, 6],\n",
              "         [4, 2, 1]],\n",
              "\n",
              "        [[1, 7, 6],\n",
              "         [1, 4, 4],\n",
              "         [1, 1, 2]]])"
            ]
          },
          "metadata": {},
          "execution_count": 81
        }
      ]
    },
    {
      "cell_type": "code",
      "source": [
        "x3.shape"
      ],
      "metadata": {
        "colab": {
          "base_uri": "https://localhost:8080/"
        },
        "id": "0Xcb1N9pKNu3",
        "outputId": "bb38bbe7-410b-47ba-9002-3718c1d1e468"
      },
      "execution_count": null,
      "outputs": [
        {
          "output_type": "execute_result",
          "data": {
            "text/plain": [
              "torch.Size([2, 3, 3])"
            ]
          },
          "metadata": {},
          "execution_count": 82
        }
      ]
    },
    {
      "cell_type": "code",
      "source": [
        "xper = x3.permute(2,1,0)"
      ],
      "metadata": {
        "id": "mf6pFu5UKUQU"
      },
      "execution_count": null,
      "outputs": []
    },
    {
      "cell_type": "code",
      "source": [
        "print(f\"x permuted: {xper}\")\n",
        "print(f\"x permuted shape: {xper.shape}\")"
      ],
      "metadata": {
        "colab": {
          "base_uri": "https://localhost:8080/"
        },
        "id": "DGel7ifVKcYg",
        "outputId": "811c7f90-7a29-4ece-cbcf-d817fd033259"
      },
      "execution_count": null,
      "outputs": [
        {
          "output_type": "stream",
          "name": "stdout",
          "text": [
            "x permuted: tensor([[[2, 1],\n",
            "         [0, 1],\n",
            "         [4, 1]],\n",
            "\n",
            "        [[5, 7],\n",
            "         [3, 4],\n",
            "         [2, 1]],\n",
            "\n",
            "        [[6, 6],\n",
            "         [6, 4],\n",
            "         [1, 2]]])\n",
            "x permuted shape: torch.Size([3, 3, 2])\n"
          ]
        }
      ]
    },
    {
      "cell_type": "code",
      "source": [
        "xper[0][0][0]"
      ],
      "metadata": {
        "colab": {
          "base_uri": "https://localhost:8080/"
        },
        "id": "fB9iL6gOK09K",
        "outputId": "2503cb6c-b7fa-4039-fa93-9b0a3427e213"
      },
      "execution_count": null,
      "outputs": [
        {
          "output_type": "execute_result",
          "data": {
            "text/plain": [
              "tensor(2)"
            ]
          },
          "metadata": {},
          "execution_count": 85
        }
      ]
    },
    {
      "cell_type": "code",
      "source": [
        "xper[0,:,0]"
      ],
      "metadata": {
        "colab": {
          "base_uri": "https://localhost:8080/"
        },
        "id": "Al90j312K8Cw",
        "outputId": "590dd315-1895-4918-fc31-0b6ca57ef7cf"
      },
      "execution_count": null,
      "outputs": [
        {
          "output_type": "execute_result",
          "data": {
            "text/plain": [
              "tensor([2, 0, 4])"
            ]
          },
          "metadata": {},
          "execution_count": 86
        }
      ]
    },
    {
      "cell_type": "code",
      "source": [
        "xper1 = x3.permute(1,2,0)\n",
        "print(f\"x permuted: {xper1}\")\n",
        "print(f\"x permuted shape: {xper1.shape}\")"
      ],
      "metadata": {
        "colab": {
          "base_uri": "https://localhost:8080/"
        },
        "id": "dgb5hwBuLBZD",
        "outputId": "d538e524-f402-4c83-f32c-72f75f012553"
      },
      "execution_count": null,
      "outputs": [
        {
          "output_type": "stream",
          "name": "stdout",
          "text": [
            "x permuted: tensor([[[2, 1],\n",
            "         [5, 7],\n",
            "         [6, 6]],\n",
            "\n",
            "        [[0, 1],\n",
            "         [3, 4],\n",
            "         [6, 4]],\n",
            "\n",
            "        [[4, 1],\n",
            "         [2, 1],\n",
            "         [1, 2]]])\n",
            "x permuted shape: torch.Size([3, 3, 2])\n"
          ]
        }
      ]
    },
    {
      "cell_type": "markdown",
      "source": [
        "# Indexing"
      ],
      "metadata": {
        "id": "I49TTY_0LrEn"
      }
    },
    {
      "cell_type": "markdown",
      "source": [
        "Indexing only works with `[:,:,:]` this syntax and not `[:][:][:]`"
      ],
      "metadata": {
        "id": "36l3S-RpSCcC"
      }
    },
    {
      "cell_type": "code",
      "source": [
        "x4 = torch.arange(1,10).reshape(1,3,3)\n",
        "x4"
      ],
      "metadata": {
        "colab": {
          "base_uri": "https://localhost:8080/"
        },
        "id": "419x7BaxQkmR",
        "outputId": "07b9985f-e31b-42a3-f308-b5a9000443f8"
      },
      "execution_count": null,
      "outputs": [
        {
          "output_type": "execute_result",
          "data": {
            "text/plain": [
              "tensor([[[1, 2, 3],\n",
              "         [4, 5, 6],\n",
              "         [7, 8, 9]]])"
            ]
          },
          "metadata": {},
          "execution_count": 88
        }
      ]
    },
    {
      "cell_type": "code",
      "source": [
        "x4[:,:,0]"
      ],
      "metadata": {
        "colab": {
          "base_uri": "https://localhost:8080/"
        },
        "id": "WhGL5D6dRgR4",
        "outputId": "b0a14ce7-5b89-46a4-d8c0-74f2e95bf870"
      },
      "execution_count": null,
      "outputs": [
        {
          "output_type": "execute_result",
          "data": {
            "text/plain": [
              "tensor([[1, 4, 7]])"
            ]
          },
          "metadata": {},
          "execution_count": 89
        }
      ]
    },
    {
      "cell_type": "code",
      "source": [
        "x4[:,:,1:]"
      ],
      "metadata": {
        "colab": {
          "base_uri": "https://localhost:8080/"
        },
        "id": "zs1j4mOeRk3z",
        "outputId": "1626d546-597d-4cc3-de8b-4e290d5079f4"
      },
      "execution_count": null,
      "outputs": [
        {
          "output_type": "execute_result",
          "data": {
            "text/plain": [
              "tensor([[[2, 3],\n",
              "         [5, 6],\n",
              "         [8, 9]]])"
            ]
          },
          "metadata": {},
          "execution_count": 90
        }
      ]
    },
    {
      "cell_type": "code",
      "source": [
        "x4[:,1:,1:]"
      ],
      "metadata": {
        "colab": {
          "base_uri": "https://localhost:8080/"
        },
        "id": "5970PcMhRoT0",
        "outputId": "b22f429c-8e88-49d3-a93c-ae2917974ba1"
      },
      "execution_count": null,
      "outputs": [
        {
          "output_type": "execute_result",
          "data": {
            "text/plain": [
              "tensor([[[5, 6],\n",
              "         [8, 9]]])"
            ]
          },
          "metadata": {},
          "execution_count": 91
        }
      ]
    },
    {
      "cell_type": "markdown",
      "source": [
        "## Pytorch and Numpy"
      ],
      "metadata": {
        "id": "Hk2ARA-bR3N6"
      }
    },
    {
      "cell_type": "code",
      "source": [
        "# Numpy array -> Torch tensor\n",
        "#pytorch reflects default np datatype float64 directly unless specified using type()\n",
        "#changes done in the array after the conversion does not reflect on the tensor\n",
        "\n",
        "np_ar = np.arange(1.0, 8.0)\n",
        "tensor_np = torch.from_numpy(np_ar)\n",
        "np_ar, tensor_np"
      ],
      "metadata": {
        "colab": {
          "base_uri": "https://localhost:8080/"
        },
        "id": "tKIqBcrdaueI",
        "outputId": "63d8e6cd-c8a3-432a-afba-a75a2b23cdb8"
      },
      "execution_count": null,
      "outputs": [
        {
          "output_type": "execute_result",
          "data": {
            "text/plain": [
              "(array([1., 2., 3., 4., 5., 6., 7.]),\n",
              " tensor([1., 2., 3., 4., 5., 6., 7.], dtype=torch.float64))"
            ]
          },
          "metadata": {},
          "execution_count": 93
        }
      ]
    },
    {
      "cell_type": "code",
      "source": [
        "# Tensor -> Numpy\n",
        "# changes arent reflected\n",
        "\n",
        "tensor_tr = torch.zeros(10)\n",
        "np_tensor = tensor_tr.numpy()\n",
        "\n",
        "tensor_tr,np_tensor"
      ],
      "metadata": {
        "colab": {
          "base_uri": "https://localhost:8080/"
        },
        "id": "ALdGAtJNbLpN",
        "outputId": "240b3ad9-ffc7-4b40-a83b-1de6f327b263"
      },
      "execution_count": null,
      "outputs": [
        {
          "output_type": "execute_result",
          "data": {
            "text/plain": [
              "(tensor([0., 0., 0., 0., 0., 0., 0., 0., 0., 0.]),\n",
              " array([0., 0., 0., 0., 0., 0., 0., 0., 0., 0.], dtype=float32))"
            ]
          },
          "metadata": {},
          "execution_count": 98
        }
      ]
    },
    {
      "cell_type": "markdown",
      "source": [
        "# Reproducibility\n",
        "\n",
        "To remove randomness in neural networks Pytorch uses the concept of ***Random Seed***\n"
      ],
      "metadata": {
        "id": "uL6VyxcmcC0L"
      }
    },
    {
      "cell_type": "code",
      "source": [
        "Random_seed = 101\n",
        "\n",
        "torch.manual_seed(Random_seed)\n",
        "\n",
        "rand_a = torch.rand(3,3)\n",
        "rand_b = torch.rand(3,3)\n",
        "\n",
        "#after every call of manual_seed() the random number generation is reproduced\n",
        "torch.manual_seed(Random_seed) \n",
        "\n",
        "rand_c = torch.rand(3,3)\n",
        "rand_d = torch.rand(3,3)\n",
        "\n",
        "print(rand_a)\n",
        "print(rand_b)\n",
        "print(\"\\n\")\n",
        "print(rand_c)\n",
        "print(rand_d)"
      ],
      "metadata": {
        "colab": {
          "base_uri": "https://localhost:8080/"
        },
        "id": "OJJI5Z_zdEvb",
        "outputId": "f4657972-87d6-40d5-c2e0-c84ccc667cf4"
      },
      "execution_count": null,
      "outputs": [
        {
          "output_type": "stream",
          "name": "stdout",
          "text": [
            "tensor([[0.1980, 0.4503, 0.0909],\n",
            "        [0.8872, 0.2894, 0.0186],\n",
            "        [0.9095, 0.3406, 0.4309]])\n",
            "tensor([[0.7324, 0.4776, 0.0716],\n",
            "        [0.5834, 0.7521, 0.7649],\n",
            "        [0.1443, 0.7152, 0.3953]])\n",
            "\n",
            "\n",
            "tensor([[0.1980, 0.4503, 0.0909],\n",
            "        [0.8872, 0.2894, 0.0186],\n",
            "        [0.9095, 0.3406, 0.4309]])\n",
            "tensor([[0.7324, 0.4776, 0.0716],\n",
            "        [0.5834, 0.7521, 0.7649],\n",
            "        [0.1443, 0.7152, 0.3953]])\n"
          ]
        }
      ]
    },
    {
      "cell_type": "markdown",
      "source": [
        "# GPUs in Pytorch"
      ],
      "metadata": {
        "id": "nGARha2Qd8GJ"
      }
    },
    {
      "cell_type": "code",
      "source": [
        "!nvidia-smi"
      ],
      "metadata": {
        "colab": {
          "base_uri": "https://localhost:8080/"
        },
        "id": "q5SBmrNCfj5G",
        "outputId": "41516cd0-d1c4-47f6-921f-126ed8b41073"
      },
      "execution_count": null,
      "outputs": [
        {
          "output_type": "stream",
          "name": "stdout",
          "text": [
            "Sun May 14 09:02:24 2023       \n",
            "+-----------------------------------------------------------------------------+\n",
            "| NVIDIA-SMI 525.85.12    Driver Version: 525.85.12    CUDA Version: 12.0     |\n",
            "|-------------------------------+----------------------+----------------------+\n",
            "| GPU  Name        Persistence-M| Bus-Id        Disp.A | Volatile Uncorr. ECC |\n",
            "| Fan  Temp  Perf  Pwr:Usage/Cap|         Memory-Usage | GPU-Util  Compute M. |\n",
            "|                               |                      |               MIG M. |\n",
            "|===============================+======================+======================|\n",
            "|   0  Tesla T4            Off  | 00000000:00:04.0 Off |                    0 |\n",
            "| N/A   62C    P8    14W /  70W |      0MiB / 15360MiB |      0%      Default |\n",
            "|                               |                      |                  N/A |\n",
            "+-------------------------------+----------------------+----------------------+\n",
            "                                                                               \n",
            "+-----------------------------------------------------------------------------+\n",
            "| Processes:                                                                  |\n",
            "|  GPU   GI   CI        PID   Type   Process name                  GPU Memory |\n",
            "|        ID   ID                                                   Usage      |\n",
            "|=============================================================================|\n",
            "|  No running processes found                                                 |\n",
            "+-----------------------------------------------------------------------------+\n"
          ]
        }
      ]
    },
    {
      "cell_type": "code",
      "source": [
        "import torch\n",
        "torch.cuda.is_available()"
      ],
      "metadata": {
        "colab": {
          "base_uri": "https://localhost:8080/"
        },
        "id": "OnCZ3UXUft53",
        "outputId": "55ab5f93-0a2a-4d56-ae12-7eb84111a448"
      },
      "execution_count": null,
      "outputs": [
        {
          "output_type": "execute_result",
          "data": {
            "text/plain": [
              "True"
            ]
          },
          "metadata": {},
          "execution_count": 4
        }
      ]
    },
    {
      "cell_type": "code",
      "source": [
        "#Device agnostic code\n",
        "\n",
        "device = \"cuda\" if torch.cuda.is_available else \"cpu\"\n",
        "device"
      ],
      "metadata": {
        "colab": {
          "base_uri": "https://localhost:8080/",
          "height": 35
        },
        "id": "SZ2hTE1RgMWZ",
        "outputId": "a7edef25-43f5-4e2d-aa41-11ed7d9585cc"
      },
      "execution_count": null,
      "outputs": [
        {
          "output_type": "execute_result",
          "data": {
            "text/plain": [
              "'cuda'"
            ],
            "application/vnd.google.colaboratory.intrinsic+json": {
              "type": "string"
            }
          },
          "metadata": {},
          "execution_count": 5
        }
      ]
    },
    {
      "cell_type": "code",
      "source": [
        "#Count GPUs\n",
        "torch.cuda.device_count()"
      ],
      "metadata": {
        "colab": {
          "base_uri": "https://localhost:8080/"
        },
        "id": "fvnAQff8gdyB",
        "outputId": "1d1abf2a-82e6-48f7-d810-db306528a1ce"
      },
      "execution_count": null,
      "outputs": [
        {
          "output_type": "execute_result",
          "data": {
            "text/plain": [
              "1"
            ]
          },
          "metadata": {},
          "execution_count": 8
        }
      ]
    },
    {
      "cell_type": "markdown",
      "source": [
        "# Putting tensors/models in GPU"
      ],
      "metadata": {
        "id": "_aTbO3OWgkx5"
      }
    },
    {
      "cell_type": "code",
      "source": [
        "tensorCPU = torch.tensor([1,2,3])\n",
        "\n",
        "#default device is CPU\n",
        "tensorCPU,tensorCPU.device"
      ],
      "metadata": {
        "colab": {
          "base_uri": "https://localhost:8080/"
        },
        "id": "pC_uu_EthF8-",
        "outputId": "6f4615cd-16bc-4324-95aa-17db1bb33c20"
      },
      "execution_count": null,
      "outputs": [
        {
          "output_type": "execute_result",
          "data": {
            "text/plain": [
              "(tensor([1, 2, 3]), device(type='cpu'))"
            ]
          },
          "metadata": {},
          "execution_count": 11
        }
      ]
    },
    {
      "cell_type": "code",
      "source": [
        "#Move to GPU if available\n",
        "\n",
        "tensorGPU = tensorCPU.to(device)\n",
        "\n",
        "print(tensorGPU)"
      ],
      "metadata": {
        "colab": {
          "base_uri": "https://localhost:8080/"
        },
        "id": "TXusbiswhdcD",
        "outputId": "87b4d361-f2d9-4829-b1a7-ae3ed5186b79"
      },
      "execution_count": null,
      "outputs": [
        {
          "output_type": "stream",
          "name": "stdout",
          "text": [
            "tensor([1, 2, 3], device='cuda:0')\n"
          ]
        }
      ]
    },
    {
      "cell_type": "code",
      "source": [
        "#Move trnsors back to CPU\n",
        "\n",
        "tensor_bCPU = tensorGPU.cpu()\n",
        "tensor_bCPU.device"
      ],
      "metadata": {
        "colab": {
          "base_uri": "https://localhost:8080/"
        },
        "id": "vW-B7HDfh0Bo",
        "outputId": "506e088a-8c54-4962-f841-7123976edd4d"
      },
      "execution_count": null,
      "outputs": [
        {
          "output_type": "execute_result",
          "data": {
            "text/plain": [
              "device(type='cpu')"
            ]
          },
          "metadata": {},
          "execution_count": 18
        }
      ]
    },
    {
      "cell_type": "code",
      "source": [],
      "metadata": {
        "id": "t1smN4ZWicr9"
      },
      "execution_count": null,
      "outputs": []
    }
  ]
}