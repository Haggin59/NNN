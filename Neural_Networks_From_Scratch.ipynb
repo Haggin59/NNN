{
  "nbformat": 4,
  "nbformat_minor": 0,
  "metadata": {
    "colab": {
      "provenance": [],
      "authorship_tag": "ABX9TyNUh+f8UrNiyaPGw2PRDEN9",
      "include_colab_link": true
    },
    "kernelspec": {
      "name": "python3",
      "display_name": "Python 3"
    },
    "language_info": {
      "name": "python"
    }
  },
  "cells": [
    {
      "cell_type": "markdown",
      "metadata": {
        "id": "view-in-github",
        "colab_type": "text"
      },
      "source": [
        "<a href=\"https://colab.research.google.com/github/Haggin59/NNN/blob/main/Neural_Networks_From_Scratch.ipynb\" target=\"_parent\"><img src=\"https://colab.research.google.com/assets/colab-badge.svg\" alt=\"Open In Colab\"/></a>"
      ]
    },
    {
      "cell_type": "markdown",
      "source": [
        "This is an implementation of the video series [Neural Networks from Scratch](https://youtube.com/playlist?list=PLQVvvaa0QuDcjD5BAw2DxE6OF2tius3V3) by [sentdex](https://www.youtube.com/@sentdex)"
      ],
      "metadata": {
        "id": "fSdrMsqRddwD"
      }
    },
    {
      "cell_type": "code",
      "execution_count": 2,
      "metadata": {
        "colab": {
          "base_uri": "https://localhost:8080/"
        },
        "id": "GGNM6tUPb2Lb",
        "outputId": "0c219e87-c50b-43d3-eea8-5165ab6936d9"
      },
      "outputs": [
        {
          "output_type": "stream",
          "name": "stdout",
          "text": [
            "30.15\n"
          ]
        }
      ],
      "source": [
        "inputs = [2.1, 3.2, 2.5]\n",
        "weights = [5.2, 4.3, 1.3]\n",
        "bias = 2.22\n",
        "\n",
        "output = inputs[0]*weights[0] + inputs[1]*weights[1] + inputs[2]*weights[2] + bias\n",
        "print(output)"
      ]
    },
    {
      "cell_type": "markdown",
      "source": [
        "#Coding a layer\n",
        "\n",
        "In this section we will code a layer of 4 neurons with 3 inputs each"
      ],
      "metadata": {
        "id": "KMp-niPYe5NZ"
      }
    },
    {
      "cell_type": "code",
      "source": [
        "inputs = [1.3, 4.3, 2.4, 6.1]\n",
        "\n",
        "weights1 = [2.3, -1.3, 3.4, 0.4]\n",
        "weights2 = [0.9, -1.2, 4.2, -3.12]\n",
        "weights3 = [3.1, 5.2, 1.3, -2.23]\n",
        "\n",
        "bias1 = 3.2\n",
        "bias2 = -2.4\n",
        "bias3 = 4.13\n",
        "\n",
        "output = [inputs[0]*weights1[0] + inputs[1]*weights1[1] + inputs[2]*weights1[2] + inputs[3]*weights1[3] + bias1,\n",
        "          inputs[0]*weights2[0] + inputs[1]*weights2[1] + inputs[2]*weights2[2] + inputs[3]*weights2[3] + bias2,\n",
        "          inputs[0]*weights3[0] + inputs[1]*weights3[1] + inputs[2]*weights3[2] + inputs[3]*weights3[3] + bias3]\n",
        "\n",
        "print(output)"
      ],
      "metadata": {
        "colab": {
          "base_uri": "https://localhost:8080/"
        },
        "id": "RUJncff3dPpN",
        "outputId": "64cbc2fc-2e51-4959-beab-4b67ba70b084"
      },
      "execution_count": 3,
      "outputs": [
        {
          "output_type": "stream",
          "name": "stdout",
          "text": [
            "[11.2, -15.342, 20.037000000000003]\n"
          ]
        }
      ]
    },
    {
      "cell_type": "code",
      "source": [],
      "metadata": {
        "id": "Ch6vGwTWkzq0"
      },
      "execution_count": null,
      "outputs": []
    }
  ]
}