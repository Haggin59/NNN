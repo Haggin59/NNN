{
  "nbformat": 4,
  "nbformat_minor": 0,
  "metadata": {
    "colab": {
      "provenance": [],
      "authorship_tag": "ABX9TyMgHcwBJs1s8ZZhLLllQCMJ",
      "include_colab_link": true
    },
    "kernelspec": {
      "name": "python3",
      "display_name": "Python 3"
    },
    "language_info": {
      "name": "python"
    }
  },
  "cells": [
    {
      "cell_type": "markdown",
      "metadata": {
        "id": "view-in-github",
        "colab_type": "text"
      },
      "source": [
        "<a href=\"https://colab.research.google.com/github/Haggin59/NNN/blob/main/math%2Cnumpy%2Cpytorch.ipynb\" target=\"_parent\"><img src=\"https://colab.research.google.com/assets/colab-badge.svg\" alt=\"Open In Colab\"/></a>"
      ]
    },
    {
      "cell_type": "markdown",
      "source": [
        "##noob concepts"
      ],
      "metadata": {
        "id": "slQ-8F4EvWE4"
      }
    },
    {
      "cell_type": "code",
      "execution_count": null,
      "metadata": {
        "id": "e-bDTuio9ceh"
      },
      "outputs": [],
      "source": [
        "import numpy as np\n",
        "import torch\n",
        "import torch.nn as nn\n",
        "import matplotlib.pyplot as plt\n"
      ]
    },
    {
      "cell_type": "code",
      "source": [
        "n =  np.array([[1,2,3]])\n",
        "print(n)\n",
        "\n",
        "n_T = n.T\n",
        "print(n_T)"
      ],
      "metadata": {
        "colab": {
          "base_uri": "https://localhost:8080/"
        },
        "id": "6r5b9kNy99YM",
        "outputId": "f8f69788-3f34-4043-872a-d1d53ed1847d"
      },
      "execution_count": null,
      "outputs": [
        {
          "output_type": "stream",
          "name": "stdout",
          "text": [
            "[[1 2 3]]\n",
            "[[1]\n",
            " [2]\n",
            " [3]]\n"
          ]
        }
      ]
    },
    {
      "cell_type": "code",
      "source": [
        "m = np.array([[1,2,3],\n",
        "              [4,5,6],\n",
        "              [7,8,9]])\n",
        "print(m)\n",
        "print(m.T)"
      ],
      "metadata": {
        "colab": {
          "base_uri": "https://localhost:8080/"
        },
        "id": "-bDpZhlE-eEV",
        "outputId": "ec35c675-aa28-4db8-e473-ef90fcd8d50e"
      },
      "execution_count": null,
      "outputs": [
        {
          "output_type": "stream",
          "name": "stdout",
          "text": [
            "[[1 2 3]\n",
            " [4 5 6]\n",
            " [7 8 9]]\n",
            "[[1 4 7]\n",
            " [2 5 8]\n",
            " [3 6 9]]\n"
          ]
        }
      ]
    },
    {
      "cell_type": "markdown",
      "source": [
        "Tensor\n"
      ],
      "metadata": {
        "id": "QVXRM8Uq-9NU"
      }
    },
    {
      "cell_type": "code",
      "source": [
        "Tn = torch.tensor([ [1,2,3] ])\n",
        "print(Tn)\n",
        "\n",
        "print(Tn.T)"
      ],
      "metadata": {
        "colab": {
          "base_uri": "https://localhost:8080/"
        },
        "id": "9HVmEts8-8u0",
        "outputId": "e59bc87a-849e-41f5-f50b-e4cd7db05fb1"
      },
      "execution_count": null,
      "outputs": [
        {
          "output_type": "stream",
          "name": "stdout",
          "text": [
            "tensor([[1, 2, 3]])\n",
            "tensor([[1],\n",
            "        [2],\n",
            "        [3]])\n"
          ]
        }
      ]
    },
    {
      "cell_type": "code",
      "source": [
        "Tm = torch.tensor([[1,2,3],\n",
        "                   [4,5,6],\n",
        "                   [7,8,9]])\n",
        "print(Tm)\n",
        "\n",
        "print(Tm.T)"
      ],
      "metadata": {
        "colab": {
          "base_uri": "https://localhost:8080/"
        },
        "id": "WgXOBLkw_c2Q",
        "outputId": "8ae25252-59c8-4a46-accb-0c748898e725"
      },
      "execution_count": null,
      "outputs": [
        {
          "output_type": "stream",
          "name": "stdout",
          "text": [
            "tensor([[1, 2, 3],\n",
            "        [4, 5, 6],\n",
            "        [7, 8, 9]])\n",
            "tensor([[1, 4, 7],\n",
            "        [2, 5, 8],\n",
            "        [3, 6, 9]])\n"
          ]
        }
      ]
    },
    {
      "cell_type": "markdown",
      "source": [
        "Dot product\n"
      ],
      "metadata": {
        "id": "aCGXNSME_-xW"
      }
    },
    {
      "cell_type": "code",
      "source": [
        "v1 = np.array([1,2,3])\n",
        "v2 = np.array([3,2,1])\n",
        "\n",
        "d = np.dot(v1,v2)\n",
        "print(d)"
      ],
      "metadata": {
        "colab": {
          "base_uri": "https://localhost:8080/"
        },
        "id": "EFJbeeHl_-eV",
        "outputId": "d03698c7-abb0-4ba5-c494-596918c38924"
      },
      "execution_count": null,
      "outputs": [
        {
          "output_type": "stream",
          "name": "stdout",
          "text": [
            "10\n"
          ]
        }
      ]
    },
    {
      "cell_type": "code",
      "source": [
        "t1 = torch.tensor([1,2,3])\n",
        "t2 = torch.tensor([3,2,1])\n",
        "\n",
        "dT = torch.dot(t1,t2)\n",
        "print(dT)"
      ],
      "metadata": {
        "colab": {
          "base_uri": "https://localhost:8080/"
        },
        "id": "ZOP3qN_zBjPv",
        "outputId": "2c6ab3a3-fc03-4a59-e7f3-47e0cc5256b2"
      },
      "execution_count": null,
      "outputs": [
        {
          "output_type": "stream",
          "name": "stdout",
          "text": [
            "tensor(10)\n"
          ]
        }
      ]
    },
    {
      "cell_type": "markdown",
      "source": [
        "Matrix Multiplication"
      ],
      "metadata": {
        "id": "4EU8msjiCntd"
      }
    },
    {
      "cell_type": "code",
      "source": [
        "a = np.random.randn(3,4)\n",
        "b = np.random.randn(4,2)\n",
        "\n",
        "c = a@b\n",
        "print(np.round(c))"
      ],
      "metadata": {
        "colab": {
          "base_uri": "https://localhost:8080/"
        },
        "id": "_G4hMg_5Cq2B",
        "outputId": "86c0bb9b-4283-42be-cbf9-6d08155ca2cf"
      },
      "execution_count": null,
      "outputs": [
        {
          "output_type": "stream",
          "name": "stdout",
          "text": [
            "[[ 2. -0.]\n",
            " [ 3.  1.]\n",
            " [ 1.  2.]]\n"
          ]
        }
      ]
    },
    {
      "cell_type": "code",
      "source": [
        "mt1 = torch.randn(3,4)\n",
        "mt2 = torch.randn(4,3)\n",
        "\n",
        "d = mt1@mt2\n",
        "\n",
        "#print(np.round(d))\n",
        "mtt = torch.tensor(a,dtype = torch.float)\n",
        "\n",
        "e = mtt@mt2\n",
        "\n",
        "print(np.round(e))"
      ],
      "metadata": {
        "colab": {
          "base_uri": "https://localhost:8080/"
        },
        "id": "jf1JkIqiZ8hD",
        "outputId": "07f54ddc-97ef-41ef-f409-6be55d537513"
      },
      "execution_count": null,
      "outputs": [
        {
          "output_type": "stream",
          "name": "stdout",
          "text": [
            "tensor([[-1.,  2.,  1.],\n",
            "        [-1., -1., -1.],\n",
            "        [ 2., -1., -2.]])\n"
          ]
        }
      ]
    },
    {
      "cell_type": "markdown",
      "source": [
        "#SoftMax function\n"
      ],
      "metadata": {
        "id": "LL5dmWaXABMP"
      }
    },
    {
      "cell_type": "code",
      "source": [
        "l = [1,2,4,5,7]\n",
        "\n",
        "#softmax = e^Zi  / sigma(e^Z)\n",
        "\n",
        "e = np.exp(l)\n",
        "\n",
        "s = np.sum(e)\n",
        "\n",
        "softmax = e/s\n",
        "\n",
        "print(softmax)\n",
        "print(np.sum(softmax))"
      ],
      "metadata": {
        "colab": {
          "base_uri": "https://localhost:8080/"
        },
        "id": "sAtnfAYPAD2P",
        "outputId": "5a471579-2758-4434-fdd8-ec2ec71dba2e"
      },
      "execution_count": null,
      "outputs": [
        {
          "output_type": "stream",
          "name": "stdout",
          "text": [
            "[0.00207542 0.00564157 0.04168587 0.11331396 0.83728318]\n",
            "1.0\n"
          ]
        }
      ]
    },
    {
      "cell_type": "code",
      "source": [
        "z = np.random.randint(-5, high= 20, size= 20 )\n",
        "print(z)\n",
        "\n",
        "e_z = np.exp(z)\n",
        "sum_z= np.sum(e_z)\n",
        "\n",
        "sigma = e_z/sum_z\n",
        "\n",
        "plt.scatter(z,sigma)\n",
        "plt.xlabel(\"Z\")\n",
        "plt.ylabel(\"sigma\")\n",
        "\n",
        "\n"
      ],
      "metadata": {
        "colab": {
          "base_uri": "https://localhost:8080/",
          "height": 319
        },
        "id": "VMTTzYuDBJ85",
        "outputId": "98a7abcf-5480-4596-b799-1c9b4c3d313f"
      },
      "execution_count": null,
      "outputs": [
        {
          "output_type": "stream",
          "name": "stdout",
          "text": [
            "[17  3  5 14 16 19  8 18  2 17 -1 -5  9  9  0  9 16  2 11  2]\n"
          ]
        },
        {
          "output_type": "execute_result",
          "data": {
            "text/plain": [
              "Text(0, 0.5, 'sigma')"
            ]
          },
          "metadata": {},
          "execution_count": 5
        },
        {
          "output_type": "display_data",
          "data": {
            "text/plain": [
              "<Figure size 432x288 with 1 Axes>"
            ],
            "image/png": "[encoded data removed]"
          },
          "metadata": {
            "needs_background": "light"
          }
        }
      ]
    },
    {
      "cell_type": "code",
      "source": [
        "import numpy as np\n",
        "import torch\n",
        "import torch.nn as nn\n",
        "import matplotlib.pyplot as plt"
      ],
      "metadata": {
        "id": "CCW_mXpxFUvO"
      },
      "execution_count": null,
      "outputs": []
    },
    {
      "cell_type": "code",
      "source": [
        "#Softmax using torch\n",
        "\n",
        "z = [1,2,3,4,6]\n",
        "\n",
        "softmaxi = nn.Softmax(dim=0)\n",
        "sigmaT = softmaxi(torch.tensor(z,dtype = torch.float))\n",
        "\n",
        "plt.plot(z,sigmaT,'o')\n",
        "plt.xlabel(\"Z\")\n",
        "plt.ylabel(\"sigma\")\n",
        "\n",
        "print(sigmaT)"
      ],
      "metadata": {
        "colab": {
          "base_uri": "https://localhost:8080/",
          "height": 297
        },
        "id": "dWoSgUtgEGGl",
        "outputId": "b686a424-861e-4719-efcf-54e75e06e870"
      },
      "execution_count": null,
      "outputs": [
        {
          "output_type": "stream",
          "name": "stdout",
          "text": [
            "tensor([0.0056, 0.0151, 0.0411, 0.1118, 0.8263])\n"
          ]
        },
        {
          "output_type": "display_data",
          "data": {
            "text/plain": [
              "<Figure size 432x288 with 1 Axes>"
            ],
            "image/png": "[encoded data removed]"
          },
          "metadata": {
            "needs_background": "light"
          }
        }
      ]
    },
    {
      "cell_type": "markdown",
      "source": [
        "#Logarithm"
      ],
      "metadata": {
        "id": "hLn8n6SFcFsn"
      }
    },
    {
      "cell_type": "code",
      "source": [
        "x = np.linspace(0.1,5,100)\n",
        "logx = np.log(x)\n",
        "\n",
        "plt.plot(x,logx,'x-')\n",
        "plt.xlabel('x')\n",
        "plt.ylabel('log(x)')"
      ],
      "metadata": {
        "colab": {
          "base_uri": "https://localhost:8080/",
          "height": 296
        },
        "id": "8OVYDpThcEo6",
        "outputId": "41cb7ab3-2770-45df-82f2-9284211ba0c3"
      },
      "execution_count": null,
      "outputs": [
        {
          "output_type": "execute_result",
          "data": {
            "text/plain": [
              "Text(0, 0.5, 'log(x)')"
            ]
          },
          "metadata": {},
          "execution_count": 33
        },
        {
          "output_type": "display_data",
          "data": {
            "text/plain": [
              "<Figure size 432x288 with 1 Axes>"
            ],
            "image/png": "[encoded data removed]"
          },
          "metadata": {
            "needs_background": "light"
          }
        }
      ]
    },
    {
      "cell_type": "markdown",
      "metadata": {
        "id": "yo63BJPf0cau"
      },
      "source": [
        "# Reminder of entropy:\n",
        "\n",
        "$$H(p) = -\\sum_x p(x)\\log(p(x))$$"
      ]
    },
    {
      "cell_type": "code",
      "source": [
        "n = [0.5,0.5]\n",
        "H = 0\n",
        "\n",
        "for p in n:\n",
        "  H += -p*np.log(p)\n",
        "\n",
        "print(H)\n"
      ],
      "metadata": {
        "id": "6fz_S9kVdpU8",
        "colab": {
          "base_uri": "https://localhost:8080/"
        },
        "outputId": "647eae28-6e0f-4dfe-c172-c41f8e5ff64a"
      },
      "execution_count": null,
      "outputs": [
        {
          "output_type": "stream",
          "name": "stdout",
          "text": [
            "0.6931471805599453\n"
          ]
        }
      ]
    },
    {
      "cell_type": "code",
      "source": [
        "p = 0.5\n",
        "\n",
        "H = -p*np.log(p) + -(1-p)*np.log(1-p)\n",
        "print(H)"
      ],
      "metadata": {
        "colab": {
          "base_uri": "https://localhost:8080/"
        },
        "id": "30-NG9m1_KlW",
        "outputId": "169c524e-07b7-4008-f077-8d18bd668b68"
      },
      "execution_count": null,
      "outputs": [
        {
          "output_type": "stream",
          "name": "stdout",
          "text": [
            "0.6931471805599453\n"
          ]
        }
      ]
    },
    {
      "cell_type": "markdown",
      "source": [
        "Cross Entropy"
      ],
      "metadata": {
        "id": "LZLdMsiG_y2e"
      }
    },
    {
      "cell_type": "code",
      "source": [
        "p = [1, 0]       #is cat or !\n",
        "q = [0.7, 0.25]  # model's prediction\n",
        "H = 0\n",
        "\n",
        "for i in range(2):\n",
        "  H += -p[i]*np.log(q[i])\n",
        "\n",
        "print(H)\n",
        "\n"
      ],
      "metadata": {
        "colab": {
          "base_uri": "https://localhost:8080/"
        },
        "id": "ZWKeF7Xm_ZjB",
        "outputId": "19f2b884-2177-470c-ee49-b802ffc769f8"
      },
      "execution_count": null,
      "outputs": [
        {
          "output_type": "stream",
          "name": "stdout",
          "text": [
            "0.35667494393873245\n"
          ]
        }
      ]
    },
    {
      "cell_type": "code",
      "source": [
        "#Binary cross entropy\n",
        "\n",
        "H = -p[0]*np.log(q[0]) + -p[1]*np.log(q[1])\n",
        "\n",
        "#Simplification\n",
        "Hs = -np.log(q[0])\n",
        "\n",
        "print(H)\n",
        "print(Hs)\n"
      ],
      "metadata": {
        "colab": {
          "base_uri": "https://localhost:8080/"
        },
        "id": "SeEJQOiMAkGL",
        "outputId": "e5077e46-b566-4ca8-97e1-1570e043a687"
      },
      "execution_count": null,
      "outputs": [
        {
          "output_type": "stream",
          "name": "stdout",
          "text": [
            "0.35667494393873245\n",
            "0.35667494393873245\n"
          ]
        }
      ]
    },
    {
      "cell_type": "markdown",
      "source": [
        "Binary cross entropy using pytorch"
      ],
      "metadata": {
        "id": "Gp8qir5vBxee"
      }
    },
    {
      "cell_type": "code",
      "source": [
        "import torch\n",
        "import torch.nn.functional as F\n",
        "\n",
        "p_t = torch.Tensor(p)\n",
        "q_t = torch.Tensor(q)\n",
        "\n",
        "H = F.binary_cross_entropy(q_t,p_t)\n",
        "print(H)"
      ],
      "metadata": {
        "colab": {
          "base_uri": "https://localhost:8080/"
        },
        "id": "vFLnkechB2k9",
        "outputId": "d8ace45c-1c9f-47fb-ff11-0d0522fa72ee"
      },
      "execution_count": null,
      "outputs": [
        {
          "output_type": "stream",
          "name": "stdout",
          "text": [
            "tensor(0.3222)\n"
          ]
        }
      ]
    },
    {
      "cell_type": "markdown",
      "source": [
        "#Min/Max argmin/argmax"
      ],
      "metadata": {
        "id": "kUKayuhC4ewG"
      }
    },
    {
      "cell_type": "code",
      "source": [
        "l = np.array([1,9,-3,7])\n",
        "print(np.min(l),\":\",np.argmin(l))\n",
        "\n",
        "\n",
        "print(np.max(l),\":\",np.argmax(l))"
      ],
      "metadata": {
        "colab": {
          "base_uri": "https://localhost:8080/"
        },
        "id": "dk3YrltH4j3s",
        "outputId": "69d33c63-82cb-48b9-855d-ac35d429c372"
      },
      "execution_count": null,
      "outputs": [
        {
          "output_type": "stream",
          "name": "stdout",
          "text": [
            "-3 : 2\n",
            "9 : 1\n"
          ]
        }
      ]
    },
    {
      "cell_type": "code",
      "source": [
        "M = np.array([[0,2,-3],[3,-1,23],[-1,2,3]])\n",
        "\n",
        "print(M)\n",
        "\n",
        "print(np.min(M, axis=0)) #among cols\n",
        "print(np.argmin(M, axis=0))\n",
        "\n",
        "print(np.min(M, axis=1)) #among rows\n",
        "print(np.argmin(M,axis=1))"
      ],
      "metadata": {
        "colab": {
          "base_uri": "https://localhost:8080/"
        },
        "id": "0TZxTWIV5xpy",
        "outputId": "e480af8c-e9ff-4161-fa8f-45f899dbad6c"
      },
      "execution_count": null,
      "outputs": [
        {
          "output_type": "stream",
          "name": "stdout",
          "text": [
            "[[ 0  2 -3]\n",
            " [ 3 -1 23]\n",
            " [-1  2  3]]\n",
            "[-1 -1 -3]\n",
            "[2 1 0]\n",
            "[-3 -1 -1]\n",
            "[2 1 0]\n"
          ]
        }
      ]
    },
    {
      "cell_type": "code",
      "source": [
        "#Torch\n",
        "\n",
        "M_t = torch.Tensor([[0,2,-3],[3,-1,23],[-1,2,3]])\n",
        "\n",
        "print(M_t)\n",
        "\n",
        "mi = torch.min(M_t, axis = 0)\n",
        "print(mi.values, mi.indices)"
      ],
      "metadata": {
        "colab": {
          "base_uri": "https://localhost:8080/"
        },
        "id": "I3wNvXjo7kth",
        "outputId": "bc8da0da-600e-4150-bf52-8a5f2f789573"
      },
      "execution_count": null,
      "outputs": [
        {
          "output_type": "stream",
          "name": "stdout",
          "text": [
            "tensor([[ 0.,  2., -3.],\n",
            "        [ 3., -1., 23.],\n",
            "        [-1.,  2.,  3.]])\n",
            "tensor([-1., -1., -3.]) tensor([2, 1, 0])\n"
          ]
        }
      ]
    },
    {
      "cell_type": "markdown",
      "source": [
        "#Mean, Variance"
      ],
      "metadata": {
        "id": "mDpa-4FnPYMc"
      }
    },
    {
      "cell_type": "code",
      "source": [
        "import numpy as np"
      ],
      "metadata": {
        "id": "q5Wzw2rC9bQX"
      },
      "execution_count": null,
      "outputs": []
    },
    {
      "cell_type": "code",
      "source": [
        "v = np.random.randint(-10, high=10, size = 15)\n",
        "\n",
        "print(v)\n",
        "\n",
        "mean = np.sum(v)/len(v)\n",
        "print(mean)\n",
        "\n",
        "print(np.mean(v))\n"
      ],
      "metadata": {
        "colab": {
          "base_uri": "https://localhost:8080/"
        },
        "id": "cP7jKfHLPfWB",
        "outputId": "4bcd47f9-8b22-4db7-eb94-3c40f4ce8c44"
      },
      "execution_count": null,
      "outputs": [
        {
          "output_type": "stream",
          "name": "stdout",
          "text": [
            "[ 0  6  0 -8  9 -1 -1 -4  3 -3  3  8  1  4  4]\n",
            "1.4\n",
            "1.4\n"
          ]
        }
      ]
    },
    {
      "cell_type": "code",
      "source": [
        "#variance\n",
        "\n",
        "var = (1/(len(v)-1))* np.sum((v-mean)**2)\n",
        "\n",
        "print(var)\n",
        "\n",
        "print(np.var(v,ddof=1))"
      ],
      "metadata": {
        "colab": {
          "base_uri": "https://localhost:8080/"
        },
        "id": "ZoE0YHqgQUB4",
        "outputId": "6fe9ca7d-fd25-4ea6-dbb1-431516d132e7"
      },
      "execution_count": null,
      "outputs": [
        {
          "output_type": "stream",
          "name": "stdout",
          "text": [
            "20.97142857142857\n",
            "20.97142857142857\n"
          ]
        }
      ]
    },
    {
      "cell_type": "markdown",
      "source": [
        "#Sample Variability"
      ],
      "metadata": {
        "id": "hIH05vowUro3"
      }
    },
    {
      "cell_type": "code",
      "source": [
        "s = np.random.randint(-10,high=10,size=20)\n",
        "print(s)\n",
        "mean = np.mean(s)\n",
        "print(mean)"
      ],
      "metadata": {
        "colab": {
          "base_uri": "https://localhost:8080/"
        },
        "id": "oKh12KmdUxNH",
        "outputId": "ac1d20a3-1512-4f5b-825d-555fef6ce97a"
      },
      "execution_count": null,
      "outputs": [
        {
          "output_type": "stream",
          "name": "stdout",
          "text": [
            "[-7 -3  8  4 -7 -4  9  8  2  0  4 -1  1 -8 -9 -3  7  4  8  6]\n",
            "0.95\n"
          ]
        }
      ]
    },
    {
      "cell_type": "code",
      "source": [
        "import matplotlib.pyplot as plt\n",
        "\n",
        "n=1000\n",
        "SampleMean = np.zeros(n)\n",
        "\n",
        "for i in range(n):\n",
        "  rand_sample = np.random.choice(s,size=5,replace=True)\n",
        "  smean = np.mean(rand_sample)\n",
        "\n",
        "  SampleMean[i] = smean\n",
        "\n",
        "plt.hist(SampleMean)\n",
        "plt.plot([mean,mean],[0,250],'m--')\n",
        "\n"
      ],
      "metadata": {
        "colab": {
          "base_uri": "https://localhost:8080/",
          "height": 283
        },
        "id": "voEEYS_jVjqi",
        "outputId": "07700121-f766-44cf-9cd6-5981093af9e2"
      },
      "execution_count": null,
      "outputs": [
        {
          "output_type": "execute_result",
          "data": {
            "text/plain": [
              "[<matplotlib.lines.Line2D at 0x7f081da0f760>]"
            ]
          },
          "metadata": {},
          "execution_count": 46
        },
        {
          "output_type": "display_data",
          "data": {
            "text/plain": [
              "<Figure size 432x288 with 1 Axes>"
            ],
            "image/png": "[encoded data removed]"
          },
          "metadata": {
            "needs_background": "light"
          }
        }
      ]
    },
    {
      "cell_type": "markdown",
      "source": [
        "#Random Seeding"
      ],
      "metadata": {
        "id": "bQ1EkvB4d1Qz"
      }
    },
    {
      "cell_type": "code",
      "source": [
        "np.random.seed(2022)\n",
        "\n",
        "# a = np.random.randn(3)\n",
        "# print(a)\n",
        "\n",
        "# b = np.random.randn(3)\n",
        "# print(b)\n",
        "\n",
        "a = np.random.randint(1,high=10,size=5)\n",
        "print(a)\n",
        "\n",
        "#np.random.seed(2022)\n",
        "\n",
        "b = np.random.randint(1,high=10,size=5)\n",
        "print(b)\n",
        "\n",
        "#Seeding depends on the order of sequence after initializing the seed()"
      ],
      "metadata": {
        "colab": {
          "base_uri": "https://localhost:8080/"
        },
        "id": "Y6KTel7Qd4JB",
        "outputId": "cb3b37ad-6280-4c17-d78b-3b357d6c5bb0"
      },
      "execution_count": null,
      "outputs": [
        {
          "output_type": "stream",
          "name": "stdout",
          "text": [
            "[1 2 2 1 8]\n",
            "[9 3 9 1 6]\n"
          ]
        }
      ]
    },
    {
      "cell_type": "code",
      "source": [
        "randseed1 = np.random.RandomState(2022)\n",
        "randseed2 = np.random.RandomState(2021)\n",
        "\n",
        "print(randseed1.randn(3))\n",
        "print(randseed2.randn(3))\n",
        "\n",
        "print(\"-------------------\")\n",
        "# randseed1 = np.random.RandomState(2022)\n",
        "# randseed2 = np.random.RandomState(2021)\n",
        "\n",
        "print(randseed1.randn(3))\n",
        "print(randseed2.randn(3))\n",
        "\n"
      ],
      "metadata": {
        "colab": {
          "base_uri": "https://localhost:8080/"
        },
        "id": "nOrJjySFewJe",
        "outputId": "09b8501c-638f-4418-852c-d169aa031242"
      },
      "execution_count": null,
      "outputs": [
        {
          "output_type": "stream",
          "name": "stdout",
          "text": [
            "[-0.0005279  -0.27490142 -0.13928556]\n",
            "[ 1.48860905  0.67601087 -0.41845137]\n",
            "-------------------\n",
            "[1.98468616 0.28210933 0.76080866]\n",
            "[-0.80652081  0.55587583 -0.70550429]\n"
          ]
        }
      ]
    },
    {
      "cell_type": "code",
      "source": [
        "import torch\n",
        "torch.manual_seed(2022)\n",
        "\n",
        "print(torch.randn(3))"
      ],
      "metadata": {
        "colab": {
          "base_uri": "https://localhost:8080/"
        },
        "id": "pO-dhmn0gLMQ",
        "outputId": "e0cd0847-a909-4d84-f16d-388b6d5a7b67"
      },
      "execution_count": null,
      "outputs": [
        {
          "output_type": "stream",
          "name": "stdout",
          "text": [
            "tensor([0.1915, 0.3306, 0.2306])\n"
          ]
        }
      ]
    },
    {
      "cell_type": "markdown",
      "source": [
        "#T-test"
      ],
      "metadata": {
        "id": "3LMMmUYCz34y"
      }
    },
    {
      "cell_type": "code",
      "source": [
        "import numpy as np\n",
        "import matplotlib.pyplot as plt\n",
        "import scipy.stats as stats"
      ],
      "metadata": {
        "id": "iAYKUARv007f"
      },
      "execution_count": 126,
      "outputs": []
    },
    {
      "cell_type": "code",
      "source": [
        "\n",
        "n1 = 20\n",
        "n2 = 30\n",
        "\n",
        "mean1 = 1\n",
        "mean2 = 3\n",
        "\n",
        "data1 = np.random.randn(n1) + mean1\n",
        "data2 = np.random.randn(n2) + mean2\n",
        "\n",
        "plt.plot(np.zeros(n1),data1, 'rH',markerfacecolor = 'w',markersize = 15 )\n",
        "plt.plot(np.ones(n2),data2, 'bs',markerfacecolor = 'w',markersize = 15 )\n",
        "plt.xlim(-1,2)\n",
        "plt.xticks([0,1], labels=['group1','group2'])\n"
      ],
      "metadata": {
        "colab": {
          "base_uri": "https://localhost:8080/",
          "height": 319
        },
        "id": "_bvlWZR2z3PY",
        "outputId": "61bc504f-0adf-43e6-e2b5-cbe8f5dd3b91"
      },
      "execution_count": 150,
      "outputs": [
        {
          "output_type": "execute_result",
          "data": {
            "text/plain": [
              "([<matplotlib.axis.XTick at 0x7f07a4775250>,\n",
              "  <matplotlib.axis.XTick at 0x7f07a47751c0>],\n",
              " [Text(0, 0, 'group1'), Text(0, 0, 'group2')])"
            ]
          },
          "metadata": {},
          "execution_count": 150
        },
        {
          "output_type": "display_data",
          "data": {
            "text/plain": [
              "<Figure size 432x288 with 1 Axes>"
            ],
            "image/png": "[encoded data removed]"
          },
          "metadata": {
            "needs_background": "light"
          }
        }
      ]
    },
    {
      "cell_type": "code",
      "source": [
        "t,p = stats.ttest_ind(data1,data2)\n",
        "\n",
        "print(t,p)"
      ],
      "metadata": {
        "colab": {
          "base_uri": "https://localhost:8080/"
        },
        "id": "ghiHjaAa33GR",
        "outputId": "6f742578-b2bc-4788-d0a4-e7952bbe9925"
      },
      "execution_count": 151,
      "outputs": [
        {
          "output_type": "stream",
          "name": "stdout",
          "text": [
            "-5.9717643444364805 2.768953546069414e-07\n"
          ]
        }
      ]
    },
    {
      "cell_type": "code",
      "source": [
        "fig = plt.figure(figsize=(10,5))\n",
        "\n",
        "plt.plot(0+np.random.randn(n1)/7,data1, 'rH',markerfacecolor = 'w',markersize = 15 )\n",
        "plt.plot(1+np.random.randn(n2)/7,data2, 'bs',markerfacecolor = 'w',markersize = 15 )\n",
        "plt.xlim(-1,2)\n",
        "plt.xticks([0,1], labels=['group1','group2'])\n",
        "\n",
        "plt.title(f\"t={t:.3f} | p={p:.7f}\")"
      ],
      "metadata": {
        "colab": {
          "base_uri": "https://localhost:8080/",
          "height": 354
        },
        "id": "H4mRg_HW4yyw",
        "outputId": "31ff5fef-2d17-452b-c02d-4132448be433"
      },
      "execution_count": 160,
      "outputs": [
        {
          "output_type": "execute_result",
          "data": {
            "text/plain": [
              "Text(0.5, 1.0, 't=-5.972 | p=0.0000003')"
            ]
          },
          "metadata": {},
          "execution_count": 160
        },
        {
          "output_type": "display_data",
          "data": {
            "text/plain": [
              "<Figure size 720x360 with 1 Axes>"
            ],
            "image/png": "[encoded data removed]"
          },
          "metadata": {
            "needs_background": "light"
          }
        }
      ]
    },
    {
      "cell_type": "markdown",
      "source": [
        "#Derivatives"
      ],
      "metadata": {
        "id": "-dKzlGCjAtzR"
      }
    },
    {
      "cell_type": "code",
      "source": [
        "import sympy as sym\n",
        "import sympy.plotting.plot as symplot"
      ],
      "metadata": {
        "id": "b1kD69CpAxLJ"
      },
      "execution_count": 161,
      "outputs": []
    },
    {
      "cell_type": "code",
      "source": [
        "x = sym.symbols('x') #symbol:x\n",
        "\n",
        "fx = 2*x**2\n",
        "dfx = sym.diff(fx,x)\n",
        "ddfx = sym.diff(dfx,x)\n",
        "\n",
        "print(fx,dfx,ddfx)"
      ],
      "metadata": {
        "colab": {
          "base_uri": "https://localhost:8080/"
        },
        "id": "rLDBIZdHBKBw",
        "outputId": "fe4a466f-4f84-4417-dd44-9a8df393e46a"
      },
      "execution_count": 167,
      "outputs": [
        {
          "output_type": "stream",
          "name": "stdout",
          "text": [
            "2*x**2 4*x 4\n"
          ]
        }
      ]
    },
    {
      "cell_type": "code",
      "source": [
        "symplot(fx,(x,-4,4),title='f(x)')\n",
        "symplot(dfx,(x,-4,4),title='df(x)')"
      ],
      "metadata": {
        "colab": {
          "base_uri": "https://localhost:8080/",
          "height": 595
        },
        "id": "W3YRpjQIBr1x",
        "outputId": "e7faafc3-20c0-4e33-8849-764cc77f6f16"
      },
      "execution_count": 169,
      "outputs": [
        {
          "output_type": "display_data",
          "data": {
            "text/plain": [
              "<Figure size 432x288 with 1 Axes>"
            ],
            "image/png": "[encoded data removed]"
          },
          "metadata": {
            "needs_background": "light"
          }
        },
        {
          "output_type": "display_data",
          "data": {
            "text/plain": [
              "<Figure size 432x288 with 1 Axes>"
            ],
            "image/png": "[encoded data removed]"
          },
          "metadata": {
            "needs_background": "light"
          }
        },
        {
          "output_type": "execute_result",
          "data": {
            "text/plain": [
              "<sympy.plotting.plot.Plot at 0x7f07983d1a60>"
            ]
          },
          "metadata": {},
          "execution_count": 169
        }
      ]
    },
    {
      "cell_type": "code",
      "source": [
        "relu = sym.Max(0,x)\n",
        "\n",
        "p = symplot(relu,(x,-4,4),label=\"ReLu\",show = False,line_color=\"blue\")\n",
        "p.extend(symplot(sym.diff(relu),(x,-4,4),label = \"dRelu\",show=False, line_color = \"red\"))\n",
        "p.title=\"Relu\"\n",
        "p.legend = True\n",
        "p.show()"
      ],
      "metadata": {
        "colab": {
          "base_uri": "https://localhost:8080/",
          "height": 297
        },
        "id": "YB4T3VxwCnA8",
        "outputId": "e25d7ef3-ff51-45ab-a406-e58acd3862ec"
      },
      "execution_count": 182,
      "outputs": [
        {
          "output_type": "display_data",
          "data": {
            "text/plain": [
              "<Figure size 432x288 with 1 Axes>"
            ],
            "image/png": "[encoded data removed]"
          },
          "metadata": {
            "needs_background": "light"
          }
        }
      ]
    },
    {
      "cell_type": "markdown",
      "source": [
        "Sigmoid\n",
        "\n",
        "f(x)= 1 /(1+e^-x)"
      ],
      "metadata": {
        "id": "L_z4dtnvIQI8"
      }
    },
    {
      "cell_type": "code",
      "source": [
        "sigmoid = 1/(1+sym.exp(-x))\n",
        "\n",
        "p=symplot(sigmoid, (x,-4,4), label=\"sigmoid\", show=False, line_color=\"blue\")\n",
        "p.extend(symplot(sym.diff(sigmoid), (x,-4,4), label=\"dSigmoid\", show=False, line_color=\"red\"))\n",
        "p.title = \"Sigmoid\"\n",
        "p.legend = True\n",
        "p.show()"
      ],
      "metadata": {
        "colab": {
          "base_uri": "https://localhost:8080/",
          "height": 297
        },
        "id": "x6Gg1o1WG9cB",
        "outputId": "c31b7447-b69e-48df-a979-80ca268b2f78"
      },
      "execution_count": 183,
      "outputs": [
        {
          "output_type": "display_data",
          "data": {
            "text/plain": [
              "<Figure size 432x288 with 1 Axes>"
            ],
            "image/png": "[encoded data removed]"
          },
          "metadata": {
            "needs_background": "light"
          }
        }
      ]
    }
  ]
}